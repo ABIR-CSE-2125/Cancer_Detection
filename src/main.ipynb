{
 "cells": [
  {
   "cell_type": "markdown",
   "metadata": {},
   "source": [
    "Packeages Required\n"
   ]
  },
  {
   "cell_type": "code",
   "execution_count": null,
   "metadata": {},
   "outputs": [],
   "source": [
    "import sys\n",
    "import subprocess"
   ]
  },
  {
   "cell_type": "code",
   "execution_count": null,
   "metadata": {},
   "outputs": [],
   "source": [
    "packages = [\"pandas\",\"numpy\",\"matplotlib\",\"seaborn\",\"Scikit-learn\"]"
   ]
  },
  {
   "cell_type": "code",
   "execution_count": null,
   "metadata": {},
   "outputs": [],
   "source": [
    "for package in packages:\n",
    "    subprocess.check_call([sys.executable, \"-m\", \"pip\", \"install\", package])\n"
   ]
  },
  {
   "cell_type": "code",
   "execution_count": null,
   "metadata": {},
   "outputs": [],
   "source": [
    "#hcekcing for the correct installations\n",
    "!pip list"
   ]
  },
  {
   "cell_type": "markdown",
   "metadata": {},
   "source": [
    "Import Packages\n"
   ]
  },
  {
   "cell_type": "code",
   "execution_count": null,
   "metadata": {},
   "outputs": [],
   "source": [
    "import pandas as pd\n",
    "import numpy as np\n",
    "import matplotlib.pyplot as plt\n",
    "from tools import toNumericData"
   ]
  },
  {
   "cell_type": "markdown",
   "metadata": {},
   "source": [
    "Basic Analysis\n"
   ]
  },
  {
   "cell_type": "code",
   "execution_count": null,
   "metadata": {},
   "outputs": [],
   "source": [
    "df = pd.read_csv(\"../Data/EHR.csv\")"
   ]
  },
  {
   "cell_type": "code",
   "execution_count": null,
   "metadata": {},
   "outputs": [],
   "source": [
    "df.head(5)"
   ]
  },
  {
   "cell_type": "code",
   "execution_count": null,
   "metadata": {},
   "outputs": [],
   "source": [
    "# size of the dataframe\n",
    "df.shape"
   ]
  },
  {
   "cell_type": "code",
   "execution_count": null,
   "metadata": {},
   "outputs": [],
   "source": [
    "# the columnns\n",
    "columns = df.columns"
   ]
  },
  {
   "cell_type": "code",
   "execution_count": null,
   "metadata": {},
   "outputs": [],
   "source": [
    "#checking for null values\n",
    "for column in columns:\n",
    "    nulls = df[column].isnull().sum()\n",
    "    print(f\"Null data points in the column - {column} : {nulls}\")"
   ]
  },
  {
   "cell_type": "markdown",
   "metadata": {},
   "source": [
    "Null data points in the column - Patient_ID : 0\n",
    "\n",
    "Null data points in the column - Age : 0\n",
    "\n",
    "Null data points in the column - Gender : 0\n",
    "\n",
    "Null data points in the column - Tumor_Size(cm) : 0\n",
    "\n",
    "Null data points in the column - Tumor_Type : 0\n",
    "\n",
    "Null data points in the column - Biopsy_Result : 0\n",
    "\n",
    "Null data points in the column - Treatment : 0\n",
    "\n",
    "Null data points in the column - Response_to_Treatment : 0\n",
    "\n",
    "Null data points in the column - Survival_Status : 0\n"
   ]
  },
  {
   "cell_type": "code",
   "execution_count": null,
   "metadata": {},
   "outputs": [],
   "source": [
    "# getting the unique values of the columns\n",
    "uniqueValueMap = {}\n",
    "cols = [\"Gender\",\"Tumor_Type\",\"Biopsy_Result\",\"Treatment\",\"Response_to_Treatment\",\"Survival_Status\"]\n",
    "for column in cols:\n",
    "    uniqueValueMap[column] = list(df[column].unique())\n"
   ]
  },
  {
   "cell_type": "code",
   "execution_count": null,
   "metadata": {},
   "outputs": [],
   "source": [
    "print(uniqueValueMap)"
   ]
  },
  {
   "cell_type": "markdown",
   "metadata": {},
   "source": [
    "One-Hot-Encoding the alphabetical values\n"
   ]
  },
  {
   "cell_type": "code",
   "execution_count": null,
   "metadata": {},
   "outputs": [],
   "source": [
    "for key,value in uniqueValueMap.items():\n",
    "    k = 0\n",
    "    oneHotEncodingMap = {}\n",
    "    for val in value:\n",
    "        oneHotEncodingMap[val] = k\n",
    "        k = k+1\n",
    "    df[key] = df[key].map(oneHotEncodingMap)"
   ]
  },
  {
   "cell_type": "markdown",
   "metadata": {},
   "source": [
    "Mapping for Gender : {'Female': 0, 'Male': 1}\n",
    "\n",
    "Mapping for Tumor_Type : {'Benign': 0, 'Malignant': 1}\n",
    "\n",
    "Mapping for Biopsy_Result : {'Positive': 0, 'Negative': 1}\n",
    "\n",
    "Mapping for Treatment : {'Surgery': 0, 'Radiation Therapy': 1, 'Chemotherapy': 2}\n",
    "\n",
    "Mapping for Response_to_Treatment : {'No Response': 0, 'Complete Response': 1, 'Partial Response': 2}\n",
    "\n",
    "Mapping for Survival_Status : {'Survived': 0, 'Deceased': 1}\n"
   ]
  },
  {
   "cell_type": "code",
   "execution_count": 45,
   "metadata": {},
   "outputs": [],
   "source": [
    "df.to_csv(\"../Data/EncodedEHRData.csv\",index=False)"
   ]
  }
 ],
 "metadata": {
  "kernelspec": {
   "display_name": ".venv",
   "language": "python",
   "name": "python3"
  },
  "language_info": {
   "codemirror_mode": {
    "name": "ipython",
    "version": 3
   },
   "file_extension": ".py",
   "mimetype": "text/x-python",
   "name": "python",
   "nbconvert_exporter": "python",
   "pygments_lexer": "ipython3",
   "version": "3.11.4"
  }
 },
 "nbformat": 4,
 "nbformat_minor": 2
}
