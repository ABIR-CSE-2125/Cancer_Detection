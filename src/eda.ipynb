{
 "cells": [
  {
   "cell_type": "code",
   "execution_count": 40,
   "metadata": {},
   "outputs": [],
   "source": [
    "import numpy as np\n",
    "import pandas as pd\n",
    "import seaborn as sns\n",
    "import matplotlib.pyplot as plt\n",
    "%matplotlib inline"
   ]
  },
  {
   "cell_type": "markdown",
   "metadata": {},
   "source": [
    "#### Import the CSV Data as Pandas DataFrame"
   ]
  },
  {
   "cell_type": "code",
   "execution_count": 3,
   "metadata": {},
   "outputs": [],
   "source": [
    "df = pd.read_csv('../notebook/data/EHR.csv')"
   ]
  },
  {
   "cell_type": "markdown",
   "metadata": {},
   "source": [
    "### Top Five Records"
   ]
  },
  {
   "cell_type": "code",
   "execution_count": 96,
   "metadata": {},
   "outputs": [
    {
     "data": {
      "text/html": [
       "<div>\n",
       "<style scoped>\n",
       "    .dataframe tbody tr th:only-of-type {\n",
       "        vertical-align: middle;\n",
       "    }\n",
       "\n",
       "    .dataframe tbody tr th {\n",
       "        vertical-align: top;\n",
       "    }\n",
       "\n",
       "    .dataframe thead th {\n",
       "        text-align: right;\n",
       "    }\n",
       "</style>\n",
       "<table border=\"1\" class=\"dataframe\">\n",
       "  <thead>\n",
       "    <tr style=\"text-align: right;\">\n",
       "      <th></th>\n",
       "      <th>Patient_ID</th>\n",
       "      <th>Age</th>\n",
       "      <th>Gender</th>\n",
       "      <th>Tumor_Size(cm)</th>\n",
       "      <th>Tumor_Type</th>\n",
       "      <th>Biopsy_Result</th>\n",
       "      <th>Treatment</th>\n",
       "      <th>Response_to_Treatment</th>\n",
       "      <th>Survival_Status</th>\n",
       "    </tr>\n",
       "  </thead>\n",
       "  <tbody>\n",
       "    <tr>\n",
       "      <th>0</th>\n",
       "      <td>c044501a-43ca-4a0c-8b8b-991439ba1b6a</td>\n",
       "      <td>52</td>\n",
       "      <td>Female</td>\n",
       "      <td>5.08</td>\n",
       "      <td>Benign</td>\n",
       "      <td>Positive</td>\n",
       "      <td>Surgery</td>\n",
       "      <td>No Response</td>\n",
       "      <td>Survived</td>\n",
       "    </tr>\n",
       "    <tr>\n",
       "      <th>1</th>\n",
       "      <td>b8900c4c-1232-4084-9432-5d02eba74d20</td>\n",
       "      <td>32</td>\n",
       "      <td>Female</td>\n",
       "      <td>0.80</td>\n",
       "      <td>Benign</td>\n",
       "      <td>Negative</td>\n",
       "      <td>Surgery</td>\n",
       "      <td>Complete Response</td>\n",
       "      <td>Survived</td>\n",
       "    </tr>\n",
       "    <tr>\n",
       "      <th>2</th>\n",
       "      <td>3004e2bc-8037-49cb-a542-d5612b73beab</td>\n",
       "      <td>70</td>\n",
       "      <td>Female</td>\n",
       "      <td>9.56</td>\n",
       "      <td>Benign</td>\n",
       "      <td>Positive</td>\n",
       "      <td>Radiation Therapy</td>\n",
       "      <td>Complete Response</td>\n",
       "      <td>Deceased</td>\n",
       "    </tr>\n",
       "    <tr>\n",
       "      <th>3</th>\n",
       "      <td>1df86af7-6745-4dea-b127-cbc9915079fc</td>\n",
       "      <td>21</td>\n",
       "      <td>Female</td>\n",
       "      <td>3.07</td>\n",
       "      <td>Malignant</td>\n",
       "      <td>Negative</td>\n",
       "      <td>Surgery</td>\n",
       "      <td>Partial Response</td>\n",
       "      <td>Survived</td>\n",
       "    </tr>\n",
       "    <tr>\n",
       "      <th>4</th>\n",
       "      <td>128e00c3-72e3-4031-a7f4-1165d7199cce</td>\n",
       "      <td>62</td>\n",
       "      <td>Male</td>\n",
       "      <td>7.17</td>\n",
       "      <td>Malignant</td>\n",
       "      <td>Positive</td>\n",
       "      <td>Radiation Therapy</td>\n",
       "      <td>Complete Response</td>\n",
       "      <td>Deceased</td>\n",
       "    </tr>\n",
       "  </tbody>\n",
       "</table>\n",
       "</div>"
      ],
      "text/plain": [
       "                             Patient_ID  Age  Gender  Tumor_Size(cm)  \\\n",
       "0  c044501a-43ca-4a0c-8b8b-991439ba1b6a   52  Female            5.08   \n",
       "1  b8900c4c-1232-4084-9432-5d02eba74d20   32  Female            0.80   \n",
       "2  3004e2bc-8037-49cb-a542-d5612b73beab   70  Female            9.56   \n",
       "3  1df86af7-6745-4dea-b127-cbc9915079fc   21  Female            3.07   \n",
       "4  128e00c3-72e3-4031-a7f4-1165d7199cce   62    Male            7.17   \n",
       "\n",
       "  Tumor_Type Biopsy_Result          Treatment Response_to_Treatment  \\\n",
       "0     Benign      Positive            Surgery           No Response   \n",
       "1     Benign      Negative            Surgery     Complete Response   \n",
       "2     Benign      Positive  Radiation Therapy     Complete Response   \n",
       "3  Malignant      Negative            Surgery      Partial Response   \n",
       "4  Malignant      Positive  Radiation Therapy     Complete Response   \n",
       "\n",
       "  Survival_Status  \n",
       "0        Survived  \n",
       "1        Survived  \n",
       "2        Deceased  \n",
       "3        Survived  \n",
       "4        Deceased  "
      ]
     },
     "execution_count": 96,
     "metadata": {},
     "output_type": "execute_result"
    }
   ],
   "source": [
    "df.head(5)"
   ]
  },
  {
   "cell_type": "markdown",
   "metadata": {},
   "source": [
    "### Shape of Data Frame"
   ]
  },
  {
   "cell_type": "code",
   "execution_count": 97,
   "metadata": {},
   "outputs": [
    {
     "data": {
      "text/plain": [
       "(20000, 9)"
      ]
     },
     "execution_count": 97,
     "metadata": {},
     "output_type": "execute_result"
    }
   ],
   "source": [
    "df.shape"
   ]
  },
  {
   "cell_type": "markdown",
   "metadata": {},
   "source": [
    "### Dataset information"
   ]
  },
  {
   "cell_type": "markdown",
   "metadata": {},
   "source": [
    "### Checking for Missing Values"
   ]
  },
  {
   "cell_type": "code",
   "execution_count": 98,
   "metadata": {},
   "outputs": [
    {
     "data": {
      "text/plain": [
       "Patient_ID               0\n",
       "Age                      0\n",
       "Gender                   0\n",
       "Tumor_Size(cm)           0\n",
       "Tumor_Type               0\n",
       "Biopsy_Result            0\n",
       "Treatment                0\n",
       "Response_to_Treatment    0\n",
       "Survival_Status          0\n",
       "dtype: int64"
      ]
     },
     "execution_count": 98,
     "metadata": {},
     "output_type": "execute_result"
    }
   ],
   "source": [
    "df.isnull().sum()"
   ]
  },
  {
   "cell_type": "markdown",
   "metadata": {},
   "source": [
    "#### No missing value"
   ]
  },
  {
   "cell_type": "markdown",
   "metadata": {},
   "source": [
    "### Check for Duplicate values"
   ]
  },
  {
   "cell_type": "code",
   "execution_count": 99,
   "metadata": {},
   "outputs": [
    {
     "data": {
      "text/plain": [
       "np.int64(0)"
      ]
     },
     "execution_count": 99,
     "metadata": {},
     "output_type": "execute_result"
    }
   ],
   "source": [
    "df.duplicated().sum()"
   ]
  },
  {
   "cell_type": "markdown",
   "metadata": {},
   "source": [
    "#### No Duplicate Values"
   ]
  },
  {
   "cell_type": "markdown",
   "metadata": {},
   "source": [
    "### Check Datatypes"
   ]
  },
  {
   "cell_type": "code",
   "execution_count": 100,
   "metadata": {},
   "outputs": [
    {
     "name": "stdout",
     "output_type": "stream",
     "text": [
      "<class 'pandas.core.frame.DataFrame'>\n",
      "RangeIndex: 20000 entries, 0 to 19999\n",
      "Data columns (total 9 columns):\n",
      " #   Column                 Non-Null Count  Dtype  \n",
      "---  ------                 --------------  -----  \n",
      " 0   Patient_ID             20000 non-null  object \n",
      " 1   Age                    20000 non-null  int64  \n",
      " 2   Gender                 20000 non-null  object \n",
      " 3   Tumor_Size(cm)         20000 non-null  float64\n",
      " 4   Tumor_Type             20000 non-null  object \n",
      " 5   Biopsy_Result          20000 non-null  object \n",
      " 6   Treatment              20000 non-null  object \n",
      " 7   Response_to_Treatment  20000 non-null  object \n",
      " 8   Survival_Status        20000 non-null  object \n",
      "dtypes: float64(1), int64(1), object(7)\n",
      "memory usage: 1.4+ MB\n"
     ]
    }
   ],
   "source": [
    "df.info()"
   ]
  },
  {
   "cell_type": "markdown",
   "metadata": {},
   "source": [
    "### Checking the number of unique values of each column"
   ]
  },
  {
   "cell_type": "code",
   "execution_count": 101,
   "metadata": {},
   "outputs": [
    {
     "data": {
      "text/plain": [
       "Patient_ID               20000\n",
       "Age                         61\n",
       "Gender                       2\n",
       "Tumor_Size(cm)             951\n",
       "Tumor_Type                   2\n",
       "Biopsy_Result                2\n",
       "Treatment                    3\n",
       "Response_to_Treatment        3\n",
       "Survival_Status              2\n",
       "dtype: int64"
      ]
     },
     "execution_count": 101,
     "metadata": {},
     "output_type": "execute_result"
    }
   ],
   "source": [
    "df.nunique()"
   ]
  },
  {
   "cell_type": "markdown",
   "metadata": {},
   "source": [
    "### Droping Unnessecary Features"
   ]
  },
  {
   "cell_type": "code",
   "execution_count": 102,
   "metadata": {},
   "outputs": [],
   "source": [
    "# df = df.drop(columns=[\"Patient_ID\"])"
   ]
  },
  {
   "cell_type": "markdown",
   "metadata": {},
   "source": [
    "### Check statistics of data set"
   ]
  },
  {
   "cell_type": "code",
   "execution_count": 103,
   "metadata": {},
   "outputs": [
    {
     "data": {
      "text/html": [
       "<div>\n",
       "<style scoped>\n",
       "    .dataframe tbody tr th:only-of-type {\n",
       "        vertical-align: middle;\n",
       "    }\n",
       "\n",
       "    .dataframe tbody tr th {\n",
       "        vertical-align: top;\n",
       "    }\n",
       "\n",
       "    .dataframe thead th {\n",
       "        text-align: right;\n",
       "    }\n",
       "</style>\n",
       "<table border=\"1\" class=\"dataframe\">\n",
       "  <thead>\n",
       "    <tr style=\"text-align: right;\">\n",
       "      <th></th>\n",
       "      <th>Age</th>\n",
       "      <th>Tumor_Size(cm)</th>\n",
       "    </tr>\n",
       "  </thead>\n",
       "  <tbody>\n",
       "    <tr>\n",
       "      <th>count</th>\n",
       "      <td>20000.000000</td>\n",
       "      <td>20000.000000</td>\n",
       "    </tr>\n",
       "    <tr>\n",
       "      <th>mean</th>\n",
       "      <td>49.964600</td>\n",
       "      <td>5.247120</td>\n",
       "    </tr>\n",
       "    <tr>\n",
       "      <th>std</th>\n",
       "      <td>17.511404</td>\n",
       "      <td>2.736922</td>\n",
       "    </tr>\n",
       "    <tr>\n",
       "      <th>min</th>\n",
       "      <td>20.000000</td>\n",
       "      <td>0.500000</td>\n",
       "    </tr>\n",
       "    <tr>\n",
       "      <th>25%</th>\n",
       "      <td>35.000000</td>\n",
       "      <td>2.890000</td>\n",
       "    </tr>\n",
       "    <tr>\n",
       "      <th>50%</th>\n",
       "      <td>50.000000</td>\n",
       "      <td>5.260000</td>\n",
       "    </tr>\n",
       "    <tr>\n",
       "      <th>75%</th>\n",
       "      <td>65.000000</td>\n",
       "      <td>7.592500</td>\n",
       "    </tr>\n",
       "    <tr>\n",
       "      <th>max</th>\n",
       "      <td>80.000000</td>\n",
       "      <td>10.000000</td>\n",
       "    </tr>\n",
       "  </tbody>\n",
       "</table>\n",
       "</div>"
      ],
      "text/plain": [
       "                Age  Tumor_Size(cm)\n",
       "count  20000.000000    20000.000000\n",
       "mean      49.964600        5.247120\n",
       "std       17.511404        2.736922\n",
       "min       20.000000        0.500000\n",
       "25%       35.000000        2.890000\n",
       "50%       50.000000        5.260000\n",
       "75%       65.000000        7.592500\n",
       "max       80.000000       10.000000"
      ]
     },
     "execution_count": 103,
     "metadata": {},
     "output_type": "execute_result"
    }
   ],
   "source": [
    "df.describe()"
   ]
  },
  {
   "cell_type": "markdown",
   "metadata": {},
   "source": [
    "## Exploring Data"
   ]
  },
  {
   "cell_type": "code",
   "execution_count": 104,
   "metadata": {},
   "outputs": [
    {
     "data": {
      "text/html": [
       "<div>\n",
       "<style scoped>\n",
       "    .dataframe tbody tr th:only-of-type {\n",
       "        vertical-align: middle;\n",
       "    }\n",
       "\n",
       "    .dataframe tbody tr th {\n",
       "        vertical-align: top;\n",
       "    }\n",
       "\n",
       "    .dataframe thead th {\n",
       "        text-align: right;\n",
       "    }\n",
       "</style>\n",
       "<table border=\"1\" class=\"dataframe\">\n",
       "  <thead>\n",
       "    <tr style=\"text-align: right;\">\n",
       "      <th></th>\n",
       "      <th>Patient_ID</th>\n",
       "      <th>Age</th>\n",
       "      <th>Gender</th>\n",
       "      <th>Tumor_Size(cm)</th>\n",
       "      <th>Tumor_Type</th>\n",
       "      <th>Biopsy_Result</th>\n",
       "      <th>Treatment</th>\n",
       "      <th>Response_to_Treatment</th>\n",
       "      <th>Survival_Status</th>\n",
       "    </tr>\n",
       "  </thead>\n",
       "  <tbody>\n",
       "    <tr>\n",
       "      <th>0</th>\n",
       "      <td>c044501a-43ca-4a0c-8b8b-991439ba1b6a</td>\n",
       "      <td>52</td>\n",
       "      <td>Female</td>\n",
       "      <td>5.08</td>\n",
       "      <td>Benign</td>\n",
       "      <td>Positive</td>\n",
       "      <td>Surgery</td>\n",
       "      <td>No Response</td>\n",
       "      <td>Survived</td>\n",
       "    </tr>\n",
       "    <tr>\n",
       "      <th>1</th>\n",
       "      <td>b8900c4c-1232-4084-9432-5d02eba74d20</td>\n",
       "      <td>32</td>\n",
       "      <td>Female</td>\n",
       "      <td>0.80</td>\n",
       "      <td>Benign</td>\n",
       "      <td>Negative</td>\n",
       "      <td>Surgery</td>\n",
       "      <td>Complete Response</td>\n",
       "      <td>Survived</td>\n",
       "    </tr>\n",
       "    <tr>\n",
       "      <th>2</th>\n",
       "      <td>3004e2bc-8037-49cb-a542-d5612b73beab</td>\n",
       "      <td>70</td>\n",
       "      <td>Female</td>\n",
       "      <td>9.56</td>\n",
       "      <td>Benign</td>\n",
       "      <td>Positive</td>\n",
       "      <td>Radiation Therapy</td>\n",
       "      <td>Complete Response</td>\n",
       "      <td>Deceased</td>\n",
       "    </tr>\n",
       "    <tr>\n",
       "      <th>3</th>\n",
       "      <td>1df86af7-6745-4dea-b127-cbc9915079fc</td>\n",
       "      <td>21</td>\n",
       "      <td>Female</td>\n",
       "      <td>3.07</td>\n",
       "      <td>Malignant</td>\n",
       "      <td>Negative</td>\n",
       "      <td>Surgery</td>\n",
       "      <td>Partial Response</td>\n",
       "      <td>Survived</td>\n",
       "    </tr>\n",
       "    <tr>\n",
       "      <th>4</th>\n",
       "      <td>128e00c3-72e3-4031-a7f4-1165d7199cce</td>\n",
       "      <td>62</td>\n",
       "      <td>Male</td>\n",
       "      <td>7.17</td>\n",
       "      <td>Malignant</td>\n",
       "      <td>Positive</td>\n",
       "      <td>Radiation Therapy</td>\n",
       "      <td>Complete Response</td>\n",
       "      <td>Deceased</td>\n",
       "    </tr>\n",
       "  </tbody>\n",
       "</table>\n",
       "</div>"
      ],
      "text/plain": [
       "                             Patient_ID  Age  Gender  Tumor_Size(cm)  \\\n",
       "0  c044501a-43ca-4a0c-8b8b-991439ba1b6a   52  Female            5.08   \n",
       "1  b8900c4c-1232-4084-9432-5d02eba74d20   32  Female            0.80   \n",
       "2  3004e2bc-8037-49cb-a542-d5612b73beab   70  Female            9.56   \n",
       "3  1df86af7-6745-4dea-b127-cbc9915079fc   21  Female            3.07   \n",
       "4  128e00c3-72e3-4031-a7f4-1165d7199cce   62    Male            7.17   \n",
       "\n",
       "  Tumor_Type Biopsy_Result          Treatment Response_to_Treatment  \\\n",
       "0     Benign      Positive            Surgery           No Response   \n",
       "1     Benign      Negative            Surgery     Complete Response   \n",
       "2     Benign      Positive  Radiation Therapy     Complete Response   \n",
       "3  Malignant      Negative            Surgery      Partial Response   \n",
       "4  Malignant      Positive  Radiation Therapy     Complete Response   \n",
       "\n",
       "  Survival_Status  \n",
       "0        Survived  \n",
       "1        Survived  \n",
       "2        Deceased  \n",
       "3        Survived  \n",
       "4        Deceased  "
      ]
     },
     "execution_count": 104,
     "metadata": {},
     "output_type": "execute_result"
    }
   ],
   "source": [
    "df.head(5)"
   ]
  },
  {
   "cell_type": "code",
   "execution_count": 105,
   "metadata": {},
   "outputs": [
    {
     "name": "stdout",
     "output_type": "stream",
     "text": [
      "Categories in 'Gender' variable:      ['Female' 'Male']\n",
      "Categories in 'Tumor_Type' variable:      ['Benign' 'Malignant']\n",
      "Categories in 'Biopsy_Result' variable:      ['Positive' 'Negative']\n",
      "Categories in 'Treatment' variable:      ['Surgery' 'Radiation Therapy' 'Chemotherapy']\n",
      "Categories in 'Response_to_Treatment' variable:      ['No Response' 'Complete Response' 'Partial Response']\n",
      "Categories in 'Survival_Status' variable:      ['Survived' 'Deceased']\n"
     ]
    }
   ],
   "source": [
    "print(\"Categories in 'Gender' variable:     \",end=\" \" )\n",
    "print(df['Gender'].unique())\n",
    "print(\"Categories in 'Tumor_Type' variable:     \",end=\" \" )\n",
    "print(df['Tumor_Type'].unique())\n",
    "print(\"Categories in 'Biopsy_Result' variable:     \",end=\" \" )\n",
    "print(df['Biopsy_Result'].unique())\n",
    "print(\"Categories in 'Treatment' variable:     \",end=\" \" )\n",
    "print(df['Treatment'].unique())\n",
    "print(\"Categories in 'Response_to_Treatment' variable:     \",end=\" \" )\n",
    "print(df['Response_to_Treatment'].unique())\n",
    "print(\"Categories in 'Survival_Status' variable:     \",end=\" \" )\n",
    "print(df['Survival_Status'].unique())"
   ]
  },
  {
   "cell_type": "code",
   "execution_count": 106,
   "metadata": {},
   "outputs": [
    {
     "name": "stdout",
     "output_type": "stream",
     "text": [
      "We have 2 numerical features : ['Age', 'Tumor_Size(cm)']\n",
      "\n",
      "We have 7 categorical features : ['Patient_ID', 'Gender', 'Tumor_Type', 'Biopsy_Result', 'Treatment', 'Response_to_Treatment', 'Survival_Status']\n"
     ]
    }
   ],
   "source": [
    "numeric_features = [feature for feature in df.columns if df[feature].dtype != 'O']\n",
    "categorical_features = [feature for feature in df.columns if df[feature].dtype == 'O']\n",
    "\n",
    "print('We have {} numerical features : {}'.format(len(numeric_features), numeric_features))\n",
    "print('\\nWe have {} categorical features : {}'.format(len(categorical_features), categorical_features))"
   ]
  },
  {
   "cell_type": "code",
   "execution_count": 107,
   "metadata": {},
   "outputs": [
    {
     "name": "stdout",
     "output_type": "stream",
     "text": [
      "Number of patients in age group 20 to 40: 6859\n",
      "Number of patients in age group 41 to 60: 6632\n",
      "Number of patients in age group 61 to 80: 6509\n"
     ]
    }
   ],
   "source": [
    "age_bt_20_40 = df[df['Age'] <= 40]['Age'].count()\n",
    "age_bt_41_60 = df[(df['Age'] > 40) & (df[\"Age\"]<=60)]['Age'].count()\n",
    "age_bt_61_80 = df[(df['Age'] >60) & (df[\"Age\"]<=80)]['Age'].count()\n",
    "print(f'Number of patients in age group 20 to 40: {age_bt_20_40}')\n",
    "print(f'Number of patients in age group 41 to 60: {age_bt_41_60}')\n",
    "print(f'Number of patients in age group 61 to 80: {age_bt_61_80}')"
   ]
  },
  {
   "cell_type": "markdown",
   "metadata": {},
   "source": [
    "Number of patients in age group 20 to 40: 6859\n",
    "\n",
    "Number of patients in age group 41 to 60: 6632\n",
    "\n",
    "Number of patients in age group 61 to 80: 6509\n"
   ]
  },
  {
   "cell_type": "markdown",
   "metadata": {},
   "source": [
    "## Queries\n",
    "    1. Relationship of Survival with Gender\n",
    "    2. Relationship of Survival with Type of Tumour\n",
    "    3. Relationship of Survival with Type of Treatment\n",
    "    4. Relationship of Survival with Biopsy Result\n",
    "    5. Relationship of Survival with Response To Treatment"
   ]
  },
  {
   "cell_type": "code",
   "execution_count": 108,
   "metadata": {},
   "outputs": [],
   "source": [
    "survivied_patients = df[df[\"Survival_Status\"] == \"Survived\"]"
   ]
  },
  {
   "cell_type": "code",
   "execution_count": 153,
   "metadata": {},
   "outputs": [
    {
     "data": {
      "image/png": "[encoded data removed]",
      "text/plain": [
       "<Figure size 640x480 with 1 Axes>"
      ]
     },
     "metadata": {},
     "output_type": "display_data"
    }
   ],
   "source": [
    "ax = sns.countplot(data=df, x='Survival_Status', hue='Gender', palette='Set2')\n",
    "ax.bar_label(ax.containers[0], fontsize=10);\n",
    "ax.bar_label(ax.containers[1], fontsize=10);\n"
   ]
  },
  {
   "cell_type": "code",
   "execution_count": null,
   "metadata": {},
   "outputs": [],
   "source": [
    "sns.stripplot(data=df,x=\"Tumor_Size(cm)\",y=\"Survival_Status\",hue=\"Gender\",)"
   ]
  },
  {
   "cell_type": "markdown",
   "metadata": {},
   "source": [
    "### Insight\n",
    "    Almost same number of Male and Female patients have survived "
   ]
  },
  {
   "cell_type": "code",
   "execution_count": 152,
   "metadata": {},
   "outputs": [
    {
     "data": {
      "image/png": "[encoded data removed]",
      "text/plain": [
       "<Figure size 640x480 with 1 Axes>"
      ]
     },
     "metadata": {},
     "output_type": "display_data"
    }
   ],
   "source": [
    "ax = sns.countplot(data=df, x='Survival_Status', hue='Tumor_Type', palette='pastel')\n",
    "ax.bar_label(ax.containers[0], fontsize=10);\n",
    "ax.bar_label(ax.containers[1], fontsize=10);"
   ]
  },
  {
   "cell_type": "markdown",
   "metadata": {},
   "source": [
    "### Insight\n",
    "    Both Type of Tumour Has Almost Same Effect in survival"
   ]
  },
  {
   "cell_type": "code",
   "execution_count": 151,
   "metadata": {},
   "outputs": [
    {
     "data": {
      "image/png": "[encoded data removed]",
      "text/plain": [
       "<Figure size 640x480 with 1 Axes>"
      ]
     },
     "metadata": {},
     "output_type": "display_data"
    }
   ],
   "source": [
    "ax = sns.countplot(data=df, x='Survival_Status', hue='Biopsy_Result', palette='husl')\n",
    "ax.bar_label(ax.containers[0], fontsize=10);\n",
    "ax.bar_label(ax.containers[1], fontsize=10);\n"
   ]
  },
  {
   "cell_type": "markdown",
   "metadata": {},
   "source": [
    "### Insight\n",
    "    Biopsy Result has not been much effective in survival"
   ]
  },
  {
   "cell_type": "code",
   "execution_count": 150,
   "metadata": {},
   "outputs": [
    {
     "data": {
      "image/png": "[encoded data removed]",
      "text/plain": [
       "<Figure size 640x480 with 1 Axes>"
      ]
     },
     "metadata": {},
     "output_type": "display_data"
    }
   ],
   "source": [
    "ax = sns.countplot(data=df, x='Survival_Status', hue='Treatment', palette='pastel')\n",
    "ax.bar_label(ax.containers[0], fontsize=10);\n",
    "ax.bar_label(ax.containers[1], fontsize=10);\n",
    "ax.bar_label(ax.containers[2], fontsize=10);\n"
   ]
  },
  {
   "cell_type": "markdown",
   "metadata": {},
   "source": [
    "### Insight\n",
    "    Almost All Modes of Treatment seems to be equally effective"
   ]
  },
  {
   "cell_type": "code",
   "execution_count": 113,
   "metadata": {},
   "outputs": [
    {
     "data": {
      "text/plain": [
       "array(['No Response', 'Complete Response', 'Partial Response'],\n",
       "      dtype=object)"
      ]
     },
     "execution_count": 113,
     "metadata": {},
     "output_type": "execute_result"
    }
   ],
   "source": [
    "df[\"Response_to_Treatment\"].unique()"
   ]
  },
  {
   "cell_type": "code",
   "execution_count": 156,
   "metadata": {},
   "outputs": [
    {
     "data": {
      "image/png": "[encoded data removed]",
      "text/plain": [
       "<Figure size 640x480 with 1 Axes>"
      ]
     },
     "metadata": {},
     "output_type": "display_data"
    }
   ],
   "source": [
    "ax = sns.countplot(data=df, x='Survival_Status', hue='Response_to_Treatment', palette='flare')\n",
    "ax.bar_label(ax.containers[0], fontsize=10);\n",
    "ax.bar_label(ax.containers[1], fontsize=10);\n",
    "ax.bar_label(ax.containers[2], fontsize=10);"
   ]
  },
  {
   "cell_type": "markdown",
   "metadata": {},
   "source": [
    "### Insight\n",
    "    Patients With Patial Response have survived more than those who showed Complete Response to treatment"
   ]
  },
  {
   "cell_type": "code",
   "execution_count": 22,
   "metadata": {},
   "outputs": [],
   "source": [
    "df1 = pd.read_csv('../notebook/data/EHR.csv')"
   ]
  },
  {
   "cell_type": "code",
   "execution_count": 23,
   "metadata": {},
   "outputs": [
    {
     "data": {
      "text/plain": [
       "Index(['Patient_ID', 'Age', 'Gender', 'Tumor_Size(cm)', 'Tumor_Type',\n",
       "       'Biopsy_Result', 'Treatment', 'Response_to_Treatment',\n",
       "       'Survival_Status'],\n",
       "      dtype='object')"
      ]
     },
     "execution_count": 23,
     "metadata": {},
     "output_type": "execute_result"
    }
   ],
   "source": [
    "df.columns"
   ]
  },
  {
   "cell_type": "code",
   "execution_count": 27,
   "metadata": {},
   "outputs": [
    {
     "data": {
      "text/plain": [
       "RangeIndex(start=0, stop=20000, step=1)"
      ]
     },
     "execution_count": 27,
     "metadata": {},
     "output_type": "execute_result"
    }
   ],
   "source": [
    "df.index"
   ]
  },
  {
   "cell_type": "code",
   "execution_count": null,
   "metadata": {},
   "outputs": [],
   "source": [
    "plt.figure(figsize=(10,8))\n",
    "sns.scatterplot(data=df,x = \"Tumor_Size(cm)\",y=df.index,hue=\"Survival_Status\")\n"
   ]
  }
 ],
 "metadata": {
  "kernelspec": {
   "display_name": ".venv",
   "language": "python",
   "name": "python3"
  },
  "language_info": {
   "codemirror_mode": {
    "name": "ipython",
    "version": 3
   },
   "file_extension": ".py",
   "mimetype": "text/x-python",
   "name": "python",
   "nbconvert_exporter": "python",
   "pygments_lexer": "ipython3",
   "version": "3.9.6"
  }
 },
 "nbformat": 4,
 "nbformat_minor": 2
}
