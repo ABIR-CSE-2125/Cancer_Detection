{
 "cells": [
  {
   "cell_type": "code",
   "execution_count": 1,
   "metadata": {},
   "outputs": [],
   "source": [
    "import numpy as np\n",
    "import pandas as pd\n",
    "import seaborn as sns\n",
    "import matplotlib.pyplot as plt\n",
    "%matplotlib inline"
   ]
  },
  {
   "cell_type": "code",
   "execution_count": 2,
   "metadata": {},
   "outputs": [],
   "source": [
    "from sklearn.model_selection import train_test_split\n",
    "from sklearn.metrics import accuracy_score"
   ]
  },
  {
   "cell_type": "code",
   "execution_count": 3,
   "metadata": {},
   "outputs": [
    {
     "data": {
      "text/html": [
       "<div>\n",
       "<style scoped>\n",
       "    .dataframe tbody tr th:only-of-type {\n",
       "        vertical-align: middle;\n",
       "    }\n",
       "\n",
       "    .dataframe tbody tr th {\n",
       "        vertical-align: top;\n",
       "    }\n",
       "\n",
       "    .dataframe thead th {\n",
       "        text-align: right;\n",
       "    }\n",
       "</style>\n",
       "<table border=\"1\" class=\"dataframe\">\n",
       "  <thead>\n",
       "    <tr style=\"text-align: right;\">\n",
       "      <th></th>\n",
       "      <th>Patient_ID</th>\n",
       "      <th>Age</th>\n",
       "      <th>Gender</th>\n",
       "      <th>Tumor_Size(cm)</th>\n",
       "      <th>Tumor_Type</th>\n",
       "      <th>Biopsy_Result</th>\n",
       "      <th>Treatment</th>\n",
       "      <th>Response_to_Treatment</th>\n",
       "      <th>Survival_Status</th>\n",
       "    </tr>\n",
       "  </thead>\n",
       "  <tbody>\n",
       "    <tr>\n",
       "      <th>0</th>\n",
       "      <td>c044501a-43ca-4a0c-8b8b-991439ba1b6a</td>\n",
       "      <td>52</td>\n",
       "      <td>Female</td>\n",
       "      <td>5.08</td>\n",
       "      <td>Benign</td>\n",
       "      <td>Positive</td>\n",
       "      <td>Surgery</td>\n",
       "      <td>No Response</td>\n",
       "      <td>Survived</td>\n",
       "    </tr>\n",
       "    <tr>\n",
       "      <th>1</th>\n",
       "      <td>b8900c4c-1232-4084-9432-5d02eba74d20</td>\n",
       "      <td>32</td>\n",
       "      <td>Female</td>\n",
       "      <td>0.80</td>\n",
       "      <td>Benign</td>\n",
       "      <td>Negative</td>\n",
       "      <td>Surgery</td>\n",
       "      <td>Complete Response</td>\n",
       "      <td>Survived</td>\n",
       "    </tr>\n",
       "    <tr>\n",
       "      <th>2</th>\n",
       "      <td>3004e2bc-8037-49cb-a542-d5612b73beab</td>\n",
       "      <td>70</td>\n",
       "      <td>Female</td>\n",
       "      <td>9.56</td>\n",
       "      <td>Benign</td>\n",
       "      <td>Positive</td>\n",
       "      <td>Radiation Therapy</td>\n",
       "      <td>Complete Response</td>\n",
       "      <td>Deceased</td>\n",
       "    </tr>\n",
       "    <tr>\n",
       "      <th>3</th>\n",
       "      <td>1df86af7-6745-4dea-b127-cbc9915079fc</td>\n",
       "      <td>21</td>\n",
       "      <td>Female</td>\n",
       "      <td>3.07</td>\n",
       "      <td>Malignant</td>\n",
       "      <td>Negative</td>\n",
       "      <td>Surgery</td>\n",
       "      <td>Partial Response</td>\n",
       "      <td>Survived</td>\n",
       "    </tr>\n",
       "    <tr>\n",
       "      <th>4</th>\n",
       "      <td>128e00c3-72e3-4031-a7f4-1165d7199cce</td>\n",
       "      <td>62</td>\n",
       "      <td>Male</td>\n",
       "      <td>7.17</td>\n",
       "      <td>Malignant</td>\n",
       "      <td>Positive</td>\n",
       "      <td>Radiation Therapy</td>\n",
       "      <td>Complete Response</td>\n",
       "      <td>Deceased</td>\n",
       "    </tr>\n",
       "    <tr>\n",
       "      <th>5</th>\n",
       "      <td>2b3cc8d5-f2f7-4ce2-be51-f5f489b53244</td>\n",
       "      <td>60</td>\n",
       "      <td>Female</td>\n",
       "      <td>8.31</td>\n",
       "      <td>Benign</td>\n",
       "      <td>Negative</td>\n",
       "      <td>Radiation Therapy</td>\n",
       "      <td>Complete Response</td>\n",
       "      <td>Deceased</td>\n",
       "    </tr>\n",
       "    <tr>\n",
       "      <th>6</th>\n",
       "      <td>2f8c5926-bedb-418e-84ed-8b05412e495f</td>\n",
       "      <td>34</td>\n",
       "      <td>Female</td>\n",
       "      <td>0.66</td>\n",
       "      <td>Benign</td>\n",
       "      <td>Negative</td>\n",
       "      <td>Chemotherapy</td>\n",
       "      <td>Complete Response</td>\n",
       "      <td>Survived</td>\n",
       "    </tr>\n",
       "    <tr>\n",
       "      <th>7</th>\n",
       "      <td>315f3ae6-b44c-42a8-9ce3-deb728a662f9</td>\n",
       "      <td>69</td>\n",
       "      <td>Female</td>\n",
       "      <td>2.20</td>\n",
       "      <td>Malignant</td>\n",
       "      <td>Negative</td>\n",
       "      <td>Surgery</td>\n",
       "      <td>Partial Response</td>\n",
       "      <td>Survived</td>\n",
       "    </tr>\n",
       "    <tr>\n",
       "      <th>8</th>\n",
       "      <td>494e30bf-b2e5-46b1-8323-ec4b1ef6ff1b</td>\n",
       "      <td>49</td>\n",
       "      <td>Male</td>\n",
       "      <td>6.42</td>\n",
       "      <td>Benign</td>\n",
       "      <td>Negative</td>\n",
       "      <td>Chemotherapy</td>\n",
       "      <td>No Response</td>\n",
       "      <td>Deceased</td>\n",
       "    </tr>\n",
       "    <tr>\n",
       "      <th>9</th>\n",
       "      <td>b55064cc-82e5-4d22-801a-32c2a9106a44</td>\n",
       "      <td>80</td>\n",
       "      <td>Female</td>\n",
       "      <td>2.04</td>\n",
       "      <td>Malignant</td>\n",
       "      <td>Negative</td>\n",
       "      <td>Chemotherapy</td>\n",
       "      <td>Partial Response</td>\n",
       "      <td>Deceased</td>\n",
       "    </tr>\n",
       "  </tbody>\n",
       "</table>\n",
       "</div>"
      ],
      "text/plain": [
       "                             Patient_ID  Age  Gender  Tumor_Size(cm)  \\\n",
       "0  c044501a-43ca-4a0c-8b8b-991439ba1b6a   52  Female            5.08   \n",
       "1  b8900c4c-1232-4084-9432-5d02eba74d20   32  Female            0.80   \n",
       "2  3004e2bc-8037-49cb-a542-d5612b73beab   70  Female            9.56   \n",
       "3  1df86af7-6745-4dea-b127-cbc9915079fc   21  Female            3.07   \n",
       "4  128e00c3-72e3-4031-a7f4-1165d7199cce   62    Male            7.17   \n",
       "5  2b3cc8d5-f2f7-4ce2-be51-f5f489b53244   60  Female            8.31   \n",
       "6  2f8c5926-bedb-418e-84ed-8b05412e495f   34  Female            0.66   \n",
       "7  315f3ae6-b44c-42a8-9ce3-deb728a662f9   69  Female            2.20   \n",
       "8  494e30bf-b2e5-46b1-8323-ec4b1ef6ff1b   49    Male            6.42   \n",
       "9  b55064cc-82e5-4d22-801a-32c2a9106a44   80  Female            2.04   \n",
       "\n",
       "  Tumor_Type Biopsy_Result          Treatment Response_to_Treatment  \\\n",
       "0     Benign      Positive            Surgery           No Response   \n",
       "1     Benign      Negative            Surgery     Complete Response   \n",
       "2     Benign      Positive  Radiation Therapy     Complete Response   \n",
       "3  Malignant      Negative            Surgery      Partial Response   \n",
       "4  Malignant      Positive  Radiation Therapy     Complete Response   \n",
       "5     Benign      Negative  Radiation Therapy     Complete Response   \n",
       "6     Benign      Negative       Chemotherapy     Complete Response   \n",
       "7  Malignant      Negative            Surgery      Partial Response   \n",
       "8     Benign      Negative       Chemotherapy           No Response   \n",
       "9  Malignant      Negative       Chemotherapy      Partial Response   \n",
       "\n",
       "  Survival_Status  \n",
       "0        Survived  \n",
       "1        Survived  \n",
       "2        Deceased  \n",
       "3        Survived  \n",
       "4        Deceased  \n",
       "5        Deceased  \n",
       "6        Survived  \n",
       "7        Survived  \n",
       "8        Deceased  \n",
       "9        Deceased  "
      ]
     },
     "execution_count": 3,
     "metadata": {},
     "output_type": "execute_result"
    }
   ],
   "source": [
    "df = pd.read_csv('../notebook/data/EHR.csv')\n",
    "df.head(10)"
   ]
  },
  {
   "cell_type": "code",
   "execution_count": 4,
   "metadata": {},
   "outputs": [],
   "source": [
    "df= df.drop(columns=[\"Patient_ID\"])"
   ]
  },
  {
   "cell_type": "code",
   "execution_count": 5,
   "metadata": {},
   "outputs": [],
   "source": [
    "X = df.drop(columns=[\"Survival_Status\"])\n",
    "y = df[\"Survival_Status\"]"
   ]
  },
  {
   "cell_type": "code",
   "execution_count": null,
   "metadata": {},
   "outputs": [],
   "source": [
    "X.head(10)"
   ]
  },
  {
   "cell_type": "code",
   "execution_count": null,
   "metadata": {},
   "outputs": [],
   "source": [
    "y.head(10)"
   ]
  },
  {
   "cell_type": "code",
   "execution_count": 17,
   "metadata": {},
   "outputs": [
    {
     "ename": "NameError",
     "evalue": "name 'X' is not defined",
     "output_type": "error",
     "traceback": [
      "\u001b[0;31m---------------------------------------------------------------------------\u001b[0m",
      "\u001b[0;31mNameError\u001b[0m                                 Traceback (most recent call last)",
      "Cell \u001b[0;32mIn[17], line 1\u001b[0m\n\u001b[0;32m----> 1\u001b[0m num_features \u001b[38;5;241m=\u001b[39m \u001b[43mX\u001b[49m\u001b[38;5;241m.\u001b[39mselect_dtypes(exclude\u001b[38;5;241m=\u001b[39m\u001b[38;5;124m\"\u001b[39m\u001b[38;5;124mobject\u001b[39m\u001b[38;5;124m\"\u001b[39m)\u001b[38;5;241m.\u001b[39mcolumns\n\u001b[1;32m      2\u001b[0m cat_features \u001b[38;5;241m=\u001b[39m X\u001b[38;5;241m.\u001b[39mselect_dtypes(include\u001b[38;5;241m=\u001b[39m\u001b[38;5;124m\"\u001b[39m\u001b[38;5;124mobject\u001b[39m\u001b[38;5;124m\"\u001b[39m)\u001b[38;5;241m.\u001b[39mcolumns\n\u001b[1;32m      4\u001b[0m \u001b[38;5;28;01mfrom\u001b[39;00m \u001b[38;5;21;01msklearn\u001b[39;00m\u001b[38;5;21;01m.\u001b[39;00m\u001b[38;5;21;01mpreprocessing\u001b[39;00m \u001b[38;5;28;01mimport\u001b[39;00m OneHotEncoder, StandardScaler,LabelEncoder\n",
      "\u001b[0;31mNameError\u001b[0m: name 'X' is not defined"
     ]
    }
   ],
   "source": [
    "num_features = X.select_dtypes(exclude=\"object\").columns\n",
    "cat_features = X.select_dtypes(include=\"object\").columns\n",
    "\n",
    "from sklearn.preprocessing import OneHotEncoder, StandardScaler,LabelEncoder\n",
    "from sklearn.compose import ColumnTransformer\n",
    "\n",
    "numeric_transformer = StandardScaler()\n",
    "oh_transformer = OneHotEncoder()\n",
    "lbl_transformer = LabelEncoder()\n",
    "preprocessor = ColumnTransformer(\n",
    "    [\n",
    "        (\"OneHotEncoder\", oh_transformer, cat_features),\n",
    "        (\"StandardScaler\", numeric_transformer, num_features),        \n",
    "    ]\n",
    ")"
   ]
  },
  {
   "cell_type": "code",
   "execution_count": 7,
   "metadata": {},
   "outputs": [],
   "source": [
    "y = lbl_transformer.fit_transform(df[\"Survival_Status\"])"
   ]
  },
  {
   "cell_type": "code",
   "execution_count": 8,
   "metadata": {},
   "outputs": [],
   "source": [
    "from sklearn.model_selection import train_test_split\n",
    "X_train,X_test,y_train,y_test=train_test_split(X,y,test_size=0.3,random_state=42)\n"
   ]
  },
  {
   "cell_type": "code",
   "execution_count": 12,
   "metadata": {},
   "outputs": [],
   "source": [
    "X_train = preprocessor.fit_transform(X_train)\n",
    "X_test = preprocessor.transform(X_test)\n"
   ]
  },
  {
   "cell_type": "code",
   "execution_count": 9,
   "metadata": {},
   "outputs": [
    {
     "data": {
      "text/plain": [
       "(14000, 7)"
      ]
     },
     "execution_count": 9,
     "metadata": {},
     "output_type": "execute_result"
    }
   ],
   "source": [
    "X_train.shape"
   ]
  },
  {
   "cell_type": "code",
   "execution_count": null,
   "metadata": {},
   "outputs": [],
   "source": [
    "y_train.shape"
   ]
  },
  {
   "cell_type": "code",
   "execution_count": 10,
   "metadata": {},
   "outputs": [],
   "source": [
    "from sklearn.metrics import accuracy_score"
   ]
  },
  {
   "cell_type": "code",
   "execution_count": 13,
   "metadata": {},
   "outputs": [
    {
     "name": "stdout",
     "output_type": "stream",
     "text": [
      "training acc 0.9992857142857143\n",
      "testing acc 0.504\n",
      "score <bound method ClassifierMixin.score of DecisionTreeClassifier()>\n"
     ]
    }
   ],
   "source": [
    "from sklearn.tree import DecisionTreeClassifier\n",
    "## base DTREE Model\n",
    "model = DecisionTreeClassifier()\n",
    "model.fit(X_train,y_train)\n",
    "y_train_pred = model.predict(X_train)\n",
    "y_test_pred = model.predict(X_test)\n",
    "\n",
    "print(\"training acc\",accuracy_score(y_train,y_train_pred))\n",
    "print(\"testing acc\",accuracy_score(y_test,y_test_pred))\n",
    "print(\"score\",model.score)"
   ]
  },
  {
   "cell_type": "markdown",
   "metadata": {},
   "source": [
    "### hyperparameter tuning"
   ]
  },
  {
   "cell_type": "code",
   "execution_count": null,
   "metadata": {},
   "outputs": [],
   "source": [
    "from sklearn.model_selection import GridSearchCV\n",
    "dtree_model = DecisionTreeClassifier()\n",
    "param_grid={\n",
    "    'criterion':[\"gini\",\"entropy\",\"log_loss\"],\n",
    "    \"splitter\":[\"best\",\"random\"],\n",
    "    \"max_depth\":[None,2,5,10, 20, 30, 40,],\n",
    "    'max_features': [None, 'sqrt', 'log2'] , # Number of features to consider when looking for the best split\n",
    "    \"min_samples_split\":[2,4,5,8,10],\n",
    "    # \"min_samples_leaf\":[0,1,2,3,4,5]\n",
    "}\n",
    "gs = GridSearchCV(estimator=dtree_model,param_grid=param_grid,cv=8,n_jobs=-1,verbose=2)\n",
    "gs.fit(X_train,y_train)\n"
   ]
  },
  {
   "cell_type": "code",
   "execution_count": 21,
   "metadata": {},
   "outputs": [
    {
     "name": "stdout",
     "output_type": "stream",
     "text": [
      "best params :  {'criterion': 'gini', 'max_depth': 2, 'max_features': None, 'min_samples_split': 8, 'splitter': 'random'}\n",
      "best score :  0.5102142857142857\n"
     ]
    }
   ],
   "source": [
    "print(\"best params : \" , gs.best_params_)\n",
    "print(\"best score : \" , gs.best_score_)"
   ]
  },
  {
   "cell_type": "code",
   "execution_count": 22,
   "metadata": {},
   "outputs": [
    {
     "name": "stdout",
     "output_type": "stream",
     "text": [
      "training  :  0.5081428571428571\n",
      "tetsing  :  0.49733333333333335\n"
     ]
    }
   ],
   "source": [
    "model1 = DecisionTreeClassifier(criterion='gini',max_depth=2,max_features=None,min_samples_split=8,splitter='random')\n",
    "model1.fit(X_train,y_train)\n",
    "y_train_pred = model1.predict(X_train)\n",
    "y_test_pred = model1.predict(X_test)\n",
    "print(\"training  : \", accuracy_score(y_train,y_train_pred))\n",
    "print(\"tetsing  : \", accuracy_score(y_test,y_test_pred))"
   ]
  },
  {
   "cell_type": "markdown",
   "metadata": {},
   "source": [
    "### use bagging"
   ]
  },
  {
   "cell_type": "code",
   "execution_count": 16,
   "metadata": {},
   "outputs": [
    {
     "name": "stdout",
     "output_type": "stream",
     "text": [
      "training acc 0.5607142857142857\n",
      "testing acc 0.5078333333333334\n",
      "score <bound method ClassifierMixin.score of RandomForestClassifier(max_depth=5)>\n"
     ]
    }
   ],
   "source": [
    "from sklearn.ensemble import RandomForestClassifier\n",
    "model = RandomForestClassifier(max_depth = 5)\n",
    "model.fit(X_train,y_train)\n",
    "y_train_pred = model.predict(X_train)\n",
    "y_test_pred = model.predict(X_test)\n",
    "\n",
    "print(\"training acc\",accuracy_score(y_train,y_train_pred))\n",
    "print(\"testing acc\",accuracy_score(y_test,y_test_pred))\n",
    "print(\"score\",model.score)"
   ]
  },
  {
   "cell_type": "markdown",
   "metadata": {},
   "source": [
    "not overfitting anymore. but accuracy is low"
   ]
  },
  {
   "cell_type": "code",
   "execution_count": null,
   "metadata": {},
   "outputs": [],
   "source": [
    "model = RandomForestClassifier()\n",
    "param_grid={\n",
    "    'n_estimators':[80,100,110],\n",
    "    'criterion':[\"gini\",\"entropy\",\"log_loss\"],\n",
    "    \"max_depth\":[None,2,5,8,10,15],\n",
    "    'max_features': [None, 'sqrt', 'log2'] , # Number of features to consider when looking for the best split\n",
    "    \"min_samples_split\":[2,4,5,8,10],\n",
    "    \"oob_score\" :[True,False],\n",
    "    \"bootstrap\" :[True,False]\n",
    "}\n",
    "gs = GridSearchCV(estimator=model,param_grid=param_grid,cv=5,n_jobs=-1,verbose=2)\n",
    "gs.fit(X_train,y_train)"
   ]
  },
  {
   "cell_type": "code",
   "execution_count": null,
   "metadata": {},
   "outputs": [],
   "source": [
    "gs.best_score_"
   ]
  },
  {
   "cell_type": "code",
   "execution_count": null,
   "metadata": {},
   "outputs": [],
   "source": [
    "x = df.iloc[:,:-1]\n",
    "x"
   ]
  },
  {
   "cell_type": "code",
   "execution_count": null,
   "metadata": {},
   "outputs": [],
   "source": [
    "ohc = OneHotEncoder();\n",
    "x = ohc.fit_transform(x)"
   ]
  },
  {
   "cell_type": "markdown",
   "metadata": {},
   "source": [
    "even after using bagging the performance does not increases by much"
   ]
  },
  {
   "cell_type": "code",
   "execution_count": 4,
   "metadata": {},
   "outputs": [],
   "source": [
    "dfec = pd.read_csv(\"../notebook/data/EncodedEHRData.csv\")"
   ]
  },
  {
   "cell_type": "code",
   "execution_count": 25,
   "metadata": {},
   "outputs": [],
   "source": [
    "x = dfec.iloc[:,1:]"
   ]
  },
  {
   "cell_type": "code",
   "execution_count": 26,
   "metadata": {},
   "outputs": [
    {
     "data": {
      "text/html": [
       "<div>\n",
       "<style scoped>\n",
       "    .dataframe tbody tr th:only-of-type {\n",
       "        vertical-align: middle;\n",
       "    }\n",
       "\n",
       "    .dataframe tbody tr th {\n",
       "        vertical-align: top;\n",
       "    }\n",
       "\n",
       "    .dataframe thead th {\n",
       "        text-align: right;\n",
       "    }\n",
       "</style>\n",
       "<table border=\"1\" class=\"dataframe\">\n",
       "  <thead>\n",
       "    <tr style=\"text-align: right;\">\n",
       "      <th></th>\n",
       "      <th>Age</th>\n",
       "      <th>Gender</th>\n",
       "      <th>Tumor_Size(cm)</th>\n",
       "      <th>Tumor_Type</th>\n",
       "      <th>Biopsy_Result</th>\n",
       "      <th>Treatment</th>\n",
       "      <th>Response_to_Treatment</th>\n",
       "      <th>Survival_Status</th>\n",
       "    </tr>\n",
       "  </thead>\n",
       "  <tbody>\n",
       "    <tr>\n",
       "      <th>Age</th>\n",
       "      <td>1.000000</td>\n",
       "      <td>0.002081</td>\n",
       "      <td>0.003918</td>\n",
       "      <td>-0.003325</td>\n",
       "      <td>-0.000569</td>\n",
       "      <td>0.007672</td>\n",
       "      <td>-0.010751</td>\n",
       "      <td>0.007234</td>\n",
       "    </tr>\n",
       "    <tr>\n",
       "      <th>Gender</th>\n",
       "      <td>0.002081</td>\n",
       "      <td>1.000000</td>\n",
       "      <td>0.009110</td>\n",
       "      <td>-0.001765</td>\n",
       "      <td>-0.004931</td>\n",
       "      <td>-0.009952</td>\n",
       "      <td>-0.000929</td>\n",
       "      <td>-0.008128</td>\n",
       "    </tr>\n",
       "    <tr>\n",
       "      <th>Tumor_Size(cm)</th>\n",
       "      <td>0.003918</td>\n",
       "      <td>0.009110</td>\n",
       "      <td>1.000000</td>\n",
       "      <td>0.010898</td>\n",
       "      <td>-0.001929</td>\n",
       "      <td>0.000009</td>\n",
       "      <td>-0.000909</td>\n",
       "      <td>0.010512</td>\n",
       "    </tr>\n",
       "    <tr>\n",
       "      <th>Tumor_Type</th>\n",
       "      <td>-0.003325</td>\n",
       "      <td>-0.001765</td>\n",
       "      <td>0.010898</td>\n",
       "      <td>1.000000</td>\n",
       "      <td>0.003595</td>\n",
       "      <td>-0.004416</td>\n",
       "      <td>0.009027</td>\n",
       "      <td>0.000877</td>\n",
       "    </tr>\n",
       "    <tr>\n",
       "      <th>Biopsy_Result</th>\n",
       "      <td>-0.000569</td>\n",
       "      <td>-0.004931</td>\n",
       "      <td>-0.001929</td>\n",
       "      <td>0.003595</td>\n",
       "      <td>1.000000</td>\n",
       "      <td>-0.006274</td>\n",
       "      <td>0.005732</td>\n",
       "      <td>0.009890</td>\n",
       "    </tr>\n",
       "    <tr>\n",
       "      <th>Treatment</th>\n",
       "      <td>0.007672</td>\n",
       "      <td>-0.009952</td>\n",
       "      <td>0.000009</td>\n",
       "      <td>-0.004416</td>\n",
       "      <td>-0.006274</td>\n",
       "      <td>1.000000</td>\n",
       "      <td>0.009800</td>\n",
       "      <td>0.002964</td>\n",
       "    </tr>\n",
       "    <tr>\n",
       "      <th>Response_to_Treatment</th>\n",
       "      <td>-0.010751</td>\n",
       "      <td>-0.000929</td>\n",
       "      <td>-0.000909</td>\n",
       "      <td>0.009027</td>\n",
       "      <td>0.005732</td>\n",
       "      <td>0.009800</td>\n",
       "      <td>1.000000</td>\n",
       "      <td>-0.013999</td>\n",
       "    </tr>\n",
       "    <tr>\n",
       "      <th>Survival_Status</th>\n",
       "      <td>0.007234</td>\n",
       "      <td>-0.008128</td>\n",
       "      <td>0.010512</td>\n",
       "      <td>0.000877</td>\n",
       "      <td>0.009890</td>\n",
       "      <td>0.002964</td>\n",
       "      <td>-0.013999</td>\n",
       "      <td>1.000000</td>\n",
       "    </tr>\n",
       "  </tbody>\n",
       "</table>\n",
       "</div>"
      ],
      "text/plain": [
       "                            Age    Gender  Tumor_Size(cm)  Tumor_Type  \\\n",
       "Age                    1.000000  0.002081        0.003918   -0.003325   \n",
       "Gender                 0.002081  1.000000        0.009110   -0.001765   \n",
       "Tumor_Size(cm)         0.003918  0.009110        1.000000    0.010898   \n",
       "Tumor_Type            -0.003325 -0.001765        0.010898    1.000000   \n",
       "Biopsy_Result         -0.000569 -0.004931       -0.001929    0.003595   \n",
       "Treatment              0.007672 -0.009952        0.000009   -0.004416   \n",
       "Response_to_Treatment -0.010751 -0.000929       -0.000909    0.009027   \n",
       "Survival_Status        0.007234 -0.008128        0.010512    0.000877   \n",
       "\n",
       "                       Biopsy_Result  Treatment  Response_to_Treatment  \\\n",
       "Age                        -0.000569   0.007672              -0.010751   \n",
       "Gender                     -0.004931  -0.009952              -0.000929   \n",
       "Tumor_Size(cm)             -0.001929   0.000009              -0.000909   \n",
       "Tumor_Type                  0.003595  -0.004416               0.009027   \n",
       "Biopsy_Result               1.000000  -0.006274               0.005732   \n",
       "Treatment                  -0.006274   1.000000               0.009800   \n",
       "Response_to_Treatment       0.005732   0.009800               1.000000   \n",
       "Survival_Status             0.009890   0.002964              -0.013999   \n",
       "\n",
       "                       Survival_Status  \n",
       "Age                           0.007234  \n",
       "Gender                       -0.008128  \n",
       "Tumor_Size(cm)                0.010512  \n",
       "Tumor_Type                    0.000877  \n",
       "Biopsy_Result                 0.009890  \n",
       "Treatment                     0.002964  \n",
       "Response_to_Treatment        -0.013999  \n",
       "Survival_Status               1.000000  "
      ]
     },
     "execution_count": 26,
     "metadata": {},
     "output_type": "execute_result"
    }
   ],
   "source": [
    "x.corr()"
   ]
  },
  {
   "cell_type": "markdown",
   "metadata": {},
   "source": [
    "all the features are almost equally co-related upto same extent. \n",
    "but Gender & Response_to_Treatment are negetively co-related."
   ]
  },
  {
   "cell_type": "code",
   "execution_count": 20,
   "metadata": {},
   "outputs": [],
   "source": [
    "from sklearn.preprocessing import LabelEncoder\n",
    "lbl_transformer = LabelEncoder()"
   ]
  },
  {
   "cell_type": "code",
   "execution_count": 16,
   "metadata": {},
   "outputs": [],
   "source": [
    "df = pd.read_csv('../notebook/data/EHR.csv')"
   ]
  },
  {
   "cell_type": "code",
   "execution_count": 38,
   "metadata": {},
   "outputs": [
    {
     "data": {
      "text/html": [
       "<div>\n",
       "<style scoped>\n",
       "    .dataframe tbody tr th:only-of-type {\n",
       "        vertical-align: middle;\n",
       "    }\n",
       "\n",
       "    .dataframe tbody tr th {\n",
       "        vertical-align: top;\n",
       "    }\n",
       "\n",
       "    .dataframe thead th {\n",
       "        text-align: right;\n",
       "    }\n",
       "</style>\n",
       "<table border=\"1\" class=\"dataframe\">\n",
       "  <thead>\n",
       "    <tr style=\"text-align: right;\">\n",
       "      <th></th>\n",
       "      <th>Patient_ID</th>\n",
       "      <th>Age</th>\n",
       "      <th>Gender</th>\n",
       "      <th>Tumor_Size(cm)</th>\n",
       "      <th>Tumor_Type</th>\n",
       "      <th>Biopsy_Result</th>\n",
       "      <th>Treatment</th>\n",
       "      <th>Response_to_Treatment</th>\n",
       "      <th>Survival_Status</th>\n",
       "    </tr>\n",
       "  </thead>\n",
       "  <tbody>\n",
       "    <tr>\n",
       "      <th>0</th>\n",
       "      <td>c044501a-43ca-4a0c-8b8b-991439ba1b6a</td>\n",
       "      <td>52</td>\n",
       "      <td>0</td>\n",
       "      <td>5.08</td>\n",
       "      <td>0</td>\n",
       "      <td>1</td>\n",
       "      <td>2</td>\n",
       "      <td>1</td>\n",
       "      <td>Survived</td>\n",
       "    </tr>\n",
       "    <tr>\n",
       "      <th>1</th>\n",
       "      <td>b8900c4c-1232-4084-9432-5d02eba74d20</td>\n",
       "      <td>32</td>\n",
       "      <td>0</td>\n",
       "      <td>0.80</td>\n",
       "      <td>0</td>\n",
       "      <td>0</td>\n",
       "      <td>2</td>\n",
       "      <td>0</td>\n",
       "      <td>Survived</td>\n",
       "    </tr>\n",
       "    <tr>\n",
       "      <th>2</th>\n",
       "      <td>3004e2bc-8037-49cb-a542-d5612b73beab</td>\n",
       "      <td>70</td>\n",
       "      <td>0</td>\n",
       "      <td>9.56</td>\n",
       "      <td>0</td>\n",
       "      <td>1</td>\n",
       "      <td>1</td>\n",
       "      <td>0</td>\n",
       "      <td>Deceased</td>\n",
       "    </tr>\n",
       "    <tr>\n",
       "      <th>3</th>\n",
       "      <td>1df86af7-6745-4dea-b127-cbc9915079fc</td>\n",
       "      <td>21</td>\n",
       "      <td>0</td>\n",
       "      <td>3.07</td>\n",
       "      <td>1</td>\n",
       "      <td>0</td>\n",
       "      <td>2</td>\n",
       "      <td>2</td>\n",
       "      <td>Survived</td>\n",
       "    </tr>\n",
       "    <tr>\n",
       "      <th>4</th>\n",
       "      <td>128e00c3-72e3-4031-a7f4-1165d7199cce</td>\n",
       "      <td>62</td>\n",
       "      <td>1</td>\n",
       "      <td>7.17</td>\n",
       "      <td>1</td>\n",
       "      <td>1</td>\n",
       "      <td>1</td>\n",
       "      <td>0</td>\n",
       "      <td>Deceased</td>\n",
       "    </tr>\n",
       "  </tbody>\n",
       "</table>\n",
       "</div>"
      ],
      "text/plain": [
       "                             Patient_ID  Age  Gender  Tumor_Size(cm)  \\\n",
       "0  c044501a-43ca-4a0c-8b8b-991439ba1b6a   52       0            5.08   \n",
       "1  b8900c4c-1232-4084-9432-5d02eba74d20   32       0            0.80   \n",
       "2  3004e2bc-8037-49cb-a542-d5612b73beab   70       0            9.56   \n",
       "3  1df86af7-6745-4dea-b127-cbc9915079fc   21       0            3.07   \n",
       "4  128e00c3-72e3-4031-a7f4-1165d7199cce   62       1            7.17   \n",
       "\n",
       "   Tumor_Type  Biopsy_Result  Treatment  Response_to_Treatment Survival_Status  \n",
       "0           0              1          2                      1        Survived  \n",
       "1           0              0          2                      0        Survived  \n",
       "2           0              1          1                      0        Deceased  \n",
       "3           1              0          2                      2        Survived  \n",
       "4           1              1          1                      0        Deceased  "
      ]
     },
     "execution_count": 38,
     "metadata": {},
     "output_type": "execute_result"
    }
   ],
   "source": [
    "df.head(5)"
   ]
  },
  {
   "cell_type": "code",
   "execution_count": 29,
   "metadata": {},
   "outputs": [],
   "source": [
    "df[\"Gender\"] = lbl_transformer.fit_transform(df[\"Gender\"])\n",
    "df[\"Treatment\"] = lbl_transformer.fit_transform(df[\"Treatment\"])\n",
    "df[\"Response_to_Treatment\"] = lbl_transformer.fit_transform(df[\"Response_to_Treatment\"])\n",
    "df[\"Biopsy_Result\"] = lbl_transformer.fit_transform(df[\"Biopsy_Result\"])\n",
    "df[\"Tumor_Type\"] = lbl_transformer.fit_transform(df[\"Tumor_Type\"])"
   ]
  },
  {
   "cell_type": "code",
   "execution_count": 30,
   "metadata": {},
   "outputs": [],
   "source": [
    "df_gender_eliminated = df.drop(columns=[\"Gender\",\"Patient_ID\",\"Survival_Status\"])\n",
    "df_rtt_eliminated = df.drop(columns=[\"Response_to_Treatment\",\"Patient_ID\",\"Survival_Status\"])\n",
    "df_both_eliminated = df.drop(columns=[\"Gender\",\"Response_to_Treatment\",\"Patient_ID\",\"Survival_Status\"])"
   ]
  },
  {
   "cell_type": "code",
   "execution_count": 32,
   "metadata": {},
   "outputs": [],
   "source": [
    "y = dfec.iloc[:,-1]\n",
    "y = lbl_transformer.fit_transform(y)"
   ]
  },
  {
   "cell_type": "code",
   "execution_count": 33,
   "metadata": {},
   "outputs": [
    {
     "data": {
      "text/html": [
       "<div>\n",
       "<style scoped>\n",
       "    .dataframe tbody tr th:only-of-type {\n",
       "        vertical-align: middle;\n",
       "    }\n",
       "\n",
       "    .dataframe tbody tr th {\n",
       "        vertical-align: top;\n",
       "    }\n",
       "\n",
       "    .dataframe thead th {\n",
       "        text-align: right;\n",
       "    }\n",
       "</style>\n",
       "<table border=\"1\" class=\"dataframe\">\n",
       "  <thead>\n",
       "    <tr style=\"text-align: right;\">\n",
       "      <th></th>\n",
       "      <th>Age</th>\n",
       "      <th>Tumor_Size(cm)</th>\n",
       "      <th>Tumor_Type</th>\n",
       "      <th>Biopsy_Result</th>\n",
       "      <th>Treatment</th>\n",
       "      <th>Response_to_Treatment</th>\n",
       "    </tr>\n",
       "  </thead>\n",
       "  <tbody>\n",
       "    <tr>\n",
       "      <th>0</th>\n",
       "      <td>52</td>\n",
       "      <td>5.08</td>\n",
       "      <td>0</td>\n",
       "      <td>1</td>\n",
       "      <td>2</td>\n",
       "      <td>1</td>\n",
       "    </tr>\n",
       "    <tr>\n",
       "      <th>1</th>\n",
       "      <td>32</td>\n",
       "      <td>0.80</td>\n",
       "      <td>0</td>\n",
       "      <td>0</td>\n",
       "      <td>2</td>\n",
       "      <td>0</td>\n",
       "    </tr>\n",
       "    <tr>\n",
       "      <th>2</th>\n",
       "      <td>70</td>\n",
       "      <td>9.56</td>\n",
       "      <td>0</td>\n",
       "      <td>1</td>\n",
       "      <td>1</td>\n",
       "      <td>0</td>\n",
       "    </tr>\n",
       "    <tr>\n",
       "      <th>3</th>\n",
       "      <td>21</td>\n",
       "      <td>3.07</td>\n",
       "      <td>1</td>\n",
       "      <td>0</td>\n",
       "      <td>2</td>\n",
       "      <td>2</td>\n",
       "    </tr>\n",
       "    <tr>\n",
       "      <th>4</th>\n",
       "      <td>62</td>\n",
       "      <td>7.17</td>\n",
       "      <td>1</td>\n",
       "      <td>1</td>\n",
       "      <td>1</td>\n",
       "      <td>0</td>\n",
       "    </tr>\n",
       "  </tbody>\n",
       "</table>\n",
       "</div>"
      ],
      "text/plain": [
       "   Age  Tumor_Size(cm)  Tumor_Type  Biopsy_Result  Treatment  \\\n",
       "0   52            5.08           0              1          2   \n",
       "1   32            0.80           0              0          2   \n",
       "2   70            9.56           0              1          1   \n",
       "3   21            3.07           1              0          2   \n",
       "4   62            7.17           1              1          1   \n",
       "\n",
       "   Response_to_Treatment  \n",
       "0                      1  \n",
       "1                      0  \n",
       "2                      0  \n",
       "3                      2  \n",
       "4                      0  "
      ]
     },
     "execution_count": 33,
     "metadata": {},
     "output_type": "execute_result"
    }
   ],
   "source": [
    "df_gender_eliminated.head(5)"
   ]
  },
  {
   "cell_type": "code",
   "execution_count": 34,
   "metadata": {},
   "outputs": [
    {
     "data": {
      "text/html": [
       "<div>\n",
       "<style scoped>\n",
       "    .dataframe tbody tr th:only-of-type {\n",
       "        vertical-align: middle;\n",
       "    }\n",
       "\n",
       "    .dataframe tbody tr th {\n",
       "        vertical-align: top;\n",
       "    }\n",
       "\n",
       "    .dataframe thead th {\n",
       "        text-align: right;\n",
       "    }\n",
       "</style>\n",
       "<table border=\"1\" class=\"dataframe\">\n",
       "  <thead>\n",
       "    <tr style=\"text-align: right;\">\n",
       "      <th></th>\n",
       "      <th>Age</th>\n",
       "      <th>Gender</th>\n",
       "      <th>Tumor_Size(cm)</th>\n",
       "      <th>Tumor_Type</th>\n",
       "      <th>Biopsy_Result</th>\n",
       "      <th>Treatment</th>\n",
       "    </tr>\n",
       "  </thead>\n",
       "  <tbody>\n",
       "    <tr>\n",
       "      <th>0</th>\n",
       "      <td>52</td>\n",
       "      <td>0</td>\n",
       "      <td>5.08</td>\n",
       "      <td>0</td>\n",
       "      <td>1</td>\n",
       "      <td>2</td>\n",
       "    </tr>\n",
       "    <tr>\n",
       "      <th>1</th>\n",
       "      <td>32</td>\n",
       "      <td>0</td>\n",
       "      <td>0.80</td>\n",
       "      <td>0</td>\n",
       "      <td>0</td>\n",
       "      <td>2</td>\n",
       "    </tr>\n",
       "    <tr>\n",
       "      <th>2</th>\n",
       "      <td>70</td>\n",
       "      <td>0</td>\n",
       "      <td>9.56</td>\n",
       "      <td>0</td>\n",
       "      <td>1</td>\n",
       "      <td>1</td>\n",
       "    </tr>\n",
       "    <tr>\n",
       "      <th>3</th>\n",
       "      <td>21</td>\n",
       "      <td>0</td>\n",
       "      <td>3.07</td>\n",
       "      <td>1</td>\n",
       "      <td>0</td>\n",
       "      <td>2</td>\n",
       "    </tr>\n",
       "    <tr>\n",
       "      <th>4</th>\n",
       "      <td>62</td>\n",
       "      <td>1</td>\n",
       "      <td>7.17</td>\n",
       "      <td>1</td>\n",
       "      <td>1</td>\n",
       "      <td>1</td>\n",
       "    </tr>\n",
       "  </tbody>\n",
       "</table>\n",
       "</div>"
      ],
      "text/plain": [
       "   Age  Gender  Tumor_Size(cm)  Tumor_Type  Biopsy_Result  Treatment\n",
       "0   52       0            5.08           0              1          2\n",
       "1   32       0            0.80           0              0          2\n",
       "2   70       0            9.56           0              1          1\n",
       "3   21       0            3.07           1              0          2\n",
       "4   62       1            7.17           1              1          1"
      ]
     },
     "execution_count": 34,
     "metadata": {},
     "output_type": "execute_result"
    }
   ],
   "source": [
    "df_rtt_eliminated.head(5)"
   ]
  },
  {
   "cell_type": "code",
   "execution_count": 35,
   "metadata": {},
   "outputs": [
    {
     "data": {
      "text/html": [
       "<div>\n",
       "<style scoped>\n",
       "    .dataframe tbody tr th:only-of-type {\n",
       "        vertical-align: middle;\n",
       "    }\n",
       "\n",
       "    .dataframe tbody tr th {\n",
       "        vertical-align: top;\n",
       "    }\n",
       "\n",
       "    .dataframe thead th {\n",
       "        text-align: right;\n",
       "    }\n",
       "</style>\n",
       "<table border=\"1\" class=\"dataframe\">\n",
       "  <thead>\n",
       "    <tr style=\"text-align: right;\">\n",
       "      <th></th>\n",
       "      <th>Age</th>\n",
       "      <th>Tumor_Size(cm)</th>\n",
       "      <th>Tumor_Type</th>\n",
       "      <th>Biopsy_Result</th>\n",
       "      <th>Treatment</th>\n",
       "    </tr>\n",
       "  </thead>\n",
       "  <tbody>\n",
       "    <tr>\n",
       "      <th>0</th>\n",
       "      <td>52</td>\n",
       "      <td>5.08</td>\n",
       "      <td>0</td>\n",
       "      <td>1</td>\n",
       "      <td>2</td>\n",
       "    </tr>\n",
       "    <tr>\n",
       "      <th>1</th>\n",
       "      <td>32</td>\n",
       "      <td>0.80</td>\n",
       "      <td>0</td>\n",
       "      <td>0</td>\n",
       "      <td>2</td>\n",
       "    </tr>\n",
       "    <tr>\n",
       "      <th>2</th>\n",
       "      <td>70</td>\n",
       "      <td>9.56</td>\n",
       "      <td>0</td>\n",
       "      <td>1</td>\n",
       "      <td>1</td>\n",
       "    </tr>\n",
       "    <tr>\n",
       "      <th>3</th>\n",
       "      <td>21</td>\n",
       "      <td>3.07</td>\n",
       "      <td>1</td>\n",
       "      <td>0</td>\n",
       "      <td>2</td>\n",
       "    </tr>\n",
       "    <tr>\n",
       "      <th>4</th>\n",
       "      <td>62</td>\n",
       "      <td>7.17</td>\n",
       "      <td>1</td>\n",
       "      <td>1</td>\n",
       "      <td>1</td>\n",
       "    </tr>\n",
       "  </tbody>\n",
       "</table>\n",
       "</div>"
      ],
      "text/plain": [
       "   Age  Tumor_Size(cm)  Tumor_Type  Biopsy_Result  Treatment\n",
       "0   52            5.08           0              1          2\n",
       "1   32            0.80           0              0          2\n",
       "2   70            9.56           0              1          1\n",
       "3   21            3.07           1              0          2\n",
       "4   62            7.17           1              1          1"
      ]
     },
     "execution_count": 35,
     "metadata": {},
     "output_type": "execute_result"
    }
   ],
   "source": [
    "df_both_eliminated.head(5)"
   ]
  },
  {
   "cell_type": "code",
   "execution_count": 37,
   "metadata": {},
   "outputs": [
    {
     "data": {
      "text/plain": [
       "array([0, 0, 1, ..., 0, 0, 0])"
      ]
     },
     "execution_count": 37,
     "metadata": {},
     "output_type": "execute_result"
    }
   ],
   "source": [
    "y"
   ]
  },
  {
   "cell_type": "code",
   "execution_count": 61,
   "metadata": {},
   "outputs": [],
   "source": [
    "from sklearn.model_selection import train_test_split\n",
    "X_train,X_test,y_train,y_test=train_test_split(df_both_eliminated,y,test_size=0.3,random_state=42)"
   ]
  },
  {
   "cell_type": "code",
   "execution_count": 44,
   "metadata": {},
   "outputs": [],
   "source": [
    "from sklearn.metrics import accuracy_score"
   ]
  },
  {
   "cell_type": "code",
   "execution_count": 62,
   "metadata": {},
   "outputs": [
    {
     "data": {
      "text/html": [
       "<div>\n",
       "<style scoped>\n",
       "    .dataframe tbody tr th:only-of-type {\n",
       "        vertical-align: middle;\n",
       "    }\n",
       "\n",
       "    .dataframe tbody tr th {\n",
       "        vertical-align: top;\n",
       "    }\n",
       "\n",
       "    .dataframe thead th {\n",
       "        text-align: right;\n",
       "    }\n",
       "</style>\n",
       "<table border=\"1\" class=\"dataframe\">\n",
       "  <thead>\n",
       "    <tr style=\"text-align: right;\">\n",
       "      <th></th>\n",
       "      <th>Age</th>\n",
       "      <th>Tumor_Size(cm)</th>\n",
       "      <th>Tumor_Type</th>\n",
       "      <th>Biopsy_Result</th>\n",
       "      <th>Treatment</th>\n",
       "    </tr>\n",
       "  </thead>\n",
       "  <tbody>\n",
       "    <tr>\n",
       "      <th>17218</th>\n",
       "      <td>62</td>\n",
       "      <td>2.74</td>\n",
       "      <td>0</td>\n",
       "      <td>1</td>\n",
       "      <td>1</td>\n",
       "    </tr>\n",
       "    <tr>\n",
       "      <th>15188</th>\n",
       "      <td>45</td>\n",
       "      <td>6.41</td>\n",
       "      <td>0</td>\n",
       "      <td>1</td>\n",
       "      <td>2</td>\n",
       "    </tr>\n",
       "    <tr>\n",
       "      <th>11295</th>\n",
       "      <td>45</td>\n",
       "      <td>2.90</td>\n",
       "      <td>0</td>\n",
       "      <td>0</td>\n",
       "      <td>2</td>\n",
       "    </tr>\n",
       "    <tr>\n",
       "      <th>19772</th>\n",
       "      <td>70</td>\n",
       "      <td>1.53</td>\n",
       "      <td>1</td>\n",
       "      <td>1</td>\n",
       "      <td>2</td>\n",
       "    </tr>\n",
       "    <tr>\n",
       "      <th>13072</th>\n",
       "      <td>40</td>\n",
       "      <td>2.10</td>\n",
       "      <td>0</td>\n",
       "      <td>0</td>\n",
       "      <td>0</td>\n",
       "    </tr>\n",
       "  </tbody>\n",
       "</table>\n",
       "</div>"
      ],
      "text/plain": [
       "       Age  Tumor_Size(cm)  Tumor_Type  Biopsy_Result  Treatment\n",
       "17218   62            2.74           0              1          1\n",
       "15188   45            6.41           0              1          2\n",
       "11295   45            2.90           0              0          2\n",
       "19772   70            1.53           1              1          2\n",
       "13072   40            2.10           0              0          0"
      ]
     },
     "execution_count": 62,
     "metadata": {},
     "output_type": "execute_result"
    }
   ],
   "source": [
    "X_train.head(5)"
   ]
  },
  {
   "cell_type": "code",
   "execution_count": 66,
   "metadata": {},
   "outputs": [
    {
     "name": "stdout",
     "output_type": "stream",
     "text": [
      "After Eliminating the Response to Treatment Feature\n",
      "Training acc_score  :  0.5087857142857143\n",
      "Testing acc_score  :  0.502\n"
     ]
    }
   ],
   "source": [
    "from sklearn.tree import DecisionTreeClassifier\n",
    "dtree_clsf_model = DecisionTreeClassifier(criterion='gini',max_depth=2,max_features=None,min_samples_split=8,splitter='random')\n",
    "dtree_clsf_model.fit(X_train,y_train)\n",
    "train_pred = dtree_clsf_model.predict(X_train)\n",
    "test_pred = dtree_clsf_model.predict(X_test)\n",
    "\n",
    "print(\"After Eliminating the Response to Treatment Feature\")\n",
    "print(\"Training acc_score  : \",accuracy_score(y_train,train_pred))\n",
    "print(\"Testing acc_score  : \",accuracy_score(y_test,test_pred))"
   ]
  },
  {
   "cell_type": "markdown",
   "metadata": {},
   "source": [
    "### After Eliminating the Gender Feature\n",
    "\n",
    "Training acc_score  :  0.5081428571428571\n",
    "\n",
    "Testing acc_score  :  0.49733333333333335\n"
   ]
  },
  {
   "cell_type": "markdown",
   "metadata": {},
   "source": [
    "### After Eliminating the Response to Treatment Feature\n",
    "\n",
    "Training acc_score  :  0.5085714285714286\n",
    "\n",
    "Testing acc_score  :  0.506\n"
   ]
  },
  {
   "cell_type": "markdown",
   "metadata": {},
   "source": [
    "### After Eliminating the Response to Treatment Feature\n",
    "\n",
    "Training acc_score  :  0.5087857142857143\n",
    "\n",
    "Testing acc_score  :  0.502\n"
   ]
  },
  {
   "cell_type": "markdown",
   "metadata": {},
   "source": [
    "## Not much improvement!!!"
   ]
  }
 ],
 "metadata": {
  "kernelspec": {
   "display_name": ".venv",
   "language": "python",
   "name": "python3"
  },
  "language_info": {
   "codemirror_mode": {
    "name": "ipython",
    "version": 3
   },
   "file_extension": ".py",
   "mimetype": "text/x-python",
   "name": "python",
   "nbconvert_exporter": "python",
   "pygments_lexer": "ipython3",
   "version": "3.12.5"
  }
 },
 "nbformat": 4,
 "nbformat_minor": 2
}
