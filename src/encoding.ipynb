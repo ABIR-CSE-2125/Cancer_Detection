{
 "cells": [
  {
   "cell_type": "markdown",
   "metadata": {},
   "source": [
    "Packeages Required\n"
   ]
  },
  {
   "cell_type": "markdown",
   "metadata": {},
   "source": [
    "Import Packages\n"
   ]
  },
  {
   "cell_type": "code",
   "execution_count": 3,
   "metadata": {},
   "outputs": [],
   "source": [
    "import pandas as pd"
   ]
  },
  {
   "cell_type": "markdown",
   "metadata": {},
   "source": [
    "Basic Analysis\n"
   ]
  },
  {
   "cell_type": "code",
   "execution_count": 4,
   "metadata": {},
   "outputs": [],
   "source": [
    "df = pd.read_csv(\"../Data/EHR.csv\")"
   ]
  },
  {
   "cell_type": "code",
   "execution_count": 5,
   "metadata": {},
   "outputs": [
    {
     "data": {
      "text/html": [
       "<div>\n",
       "<style scoped>\n",
       "    .dataframe tbody tr th:only-of-type {\n",
       "        vertical-align: middle;\n",
       "    }\n",
       "\n",
       "    .dataframe tbody tr th {\n",
       "        vertical-align: top;\n",
       "    }\n",
       "\n",
       "    .dataframe thead th {\n",
       "        text-align: right;\n",
       "    }\n",
       "</style>\n",
       "<table border=\"1\" class=\"dataframe\">\n",
       "  <thead>\n",
       "    <tr style=\"text-align: right;\">\n",
       "      <th></th>\n",
       "      <th>Patient_ID</th>\n",
       "      <th>Age</th>\n",
       "      <th>Gender</th>\n",
       "      <th>Tumor_Size(cm)</th>\n",
       "      <th>Tumor_Type</th>\n",
       "      <th>Biopsy_Result</th>\n",
       "      <th>Treatment</th>\n",
       "      <th>Response_to_Treatment</th>\n",
       "      <th>Survival_Status</th>\n",
       "    </tr>\n",
       "  </thead>\n",
       "  <tbody>\n",
       "    <tr>\n",
       "      <th>0</th>\n",
       "      <td>c044501a-43ca-4a0c-8b8b-991439ba1b6a</td>\n",
       "      <td>52</td>\n",
       "      <td>Female</td>\n",
       "      <td>5.08</td>\n",
       "      <td>Benign</td>\n",
       "      <td>Positive</td>\n",
       "      <td>Surgery</td>\n",
       "      <td>No Response</td>\n",
       "      <td>Survived</td>\n",
       "    </tr>\n",
       "    <tr>\n",
       "      <th>1</th>\n",
       "      <td>b8900c4c-1232-4084-9432-5d02eba74d20</td>\n",
       "      <td>32</td>\n",
       "      <td>Female</td>\n",
       "      <td>0.80</td>\n",
       "      <td>Benign</td>\n",
       "      <td>Negative</td>\n",
       "      <td>Surgery</td>\n",
       "      <td>Complete Response</td>\n",
       "      <td>Survived</td>\n",
       "    </tr>\n",
       "    <tr>\n",
       "      <th>2</th>\n",
       "      <td>3004e2bc-8037-49cb-a542-d5612b73beab</td>\n",
       "      <td>70</td>\n",
       "      <td>Female</td>\n",
       "      <td>9.56</td>\n",
       "      <td>Benign</td>\n",
       "      <td>Positive</td>\n",
       "      <td>Radiation Therapy</td>\n",
       "      <td>Complete Response</td>\n",
       "      <td>Deceased</td>\n",
       "    </tr>\n",
       "    <tr>\n",
       "      <th>3</th>\n",
       "      <td>1df86af7-6745-4dea-b127-cbc9915079fc</td>\n",
       "      <td>21</td>\n",
       "      <td>Female</td>\n",
       "      <td>3.07</td>\n",
       "      <td>Malignant</td>\n",
       "      <td>Negative</td>\n",
       "      <td>Surgery</td>\n",
       "      <td>Partial Response</td>\n",
       "      <td>Survived</td>\n",
       "    </tr>\n",
       "    <tr>\n",
       "      <th>4</th>\n",
       "      <td>128e00c3-72e3-4031-a7f4-1165d7199cce</td>\n",
       "      <td>62</td>\n",
       "      <td>Male</td>\n",
       "      <td>7.17</td>\n",
       "      <td>Malignant</td>\n",
       "      <td>Positive</td>\n",
       "      <td>Radiation Therapy</td>\n",
       "      <td>Complete Response</td>\n",
       "      <td>Deceased</td>\n",
       "    </tr>\n",
       "  </tbody>\n",
       "</table>\n",
       "</div>"
      ],
      "text/plain": [
       "                             Patient_ID  Age  Gender  Tumor_Size(cm)  \\\n",
       "0  c044501a-43ca-4a0c-8b8b-991439ba1b6a   52  Female            5.08   \n",
       "1  b8900c4c-1232-4084-9432-5d02eba74d20   32  Female            0.80   \n",
       "2  3004e2bc-8037-49cb-a542-d5612b73beab   70  Female            9.56   \n",
       "3  1df86af7-6745-4dea-b127-cbc9915079fc   21  Female            3.07   \n",
       "4  128e00c3-72e3-4031-a7f4-1165d7199cce   62    Male            7.17   \n",
       "\n",
       "  Tumor_Type Biopsy_Result          Treatment Response_to_Treatment  \\\n",
       "0     Benign      Positive            Surgery           No Response   \n",
       "1     Benign      Negative            Surgery     Complete Response   \n",
       "2     Benign      Positive  Radiation Therapy     Complete Response   \n",
       "3  Malignant      Negative            Surgery      Partial Response   \n",
       "4  Malignant      Positive  Radiation Therapy     Complete Response   \n",
       "\n",
       "  Survival_Status  \n",
       "0        Survived  \n",
       "1        Survived  \n",
       "2        Deceased  \n",
       "3        Survived  \n",
       "4        Deceased  "
      ]
     },
     "execution_count": 5,
     "metadata": {},
     "output_type": "execute_result"
    }
   ],
   "source": [
    "df.head(5)"
   ]
  },
  {
   "cell_type": "code",
   "execution_count": 6,
   "metadata": {},
   "outputs": [
    {
     "data": {
      "text/plain": [
       "(20000, 9)"
      ]
     },
     "execution_count": 6,
     "metadata": {},
     "output_type": "execute_result"
    }
   ],
   "source": [
    "# size of the dataframe\n",
    "df.shape"
   ]
  },
  {
   "cell_type": "code",
   "execution_count": null,
   "metadata": {},
   "outputs": [],
   "source": [
    "# the columnns\n",
    "columns = df.columns"
   ]
  },
  {
   "cell_type": "code",
   "execution_count": null,
   "metadata": {},
   "outputs": [],
   "source": [
    "#checking for null values\n",
    "for column in columns:\n",
    "    nulls = df[column].isnull().sum()\n",
    "    print(f\"Null data points in the column - {column} : {nulls}\")"
   ]
  },
  {
   "cell_type": "markdown",
   "metadata": {},
   "source": [
    "Null data points in the column - Patient_ID : 0\n",
    "\n",
    "Null data points in the column - Age : 0\n",
    "\n",
    "Null data points in the column - Gender : 0\n",
    "\n",
    "Null data points in the column - Tumor_Size(cm) : 0\n",
    "\n",
    "Null data points in the column - Tumor_Type : 0\n",
    "\n",
    "Null data points in the column - Biopsy_Result : 0\n",
    "\n",
    "Null data points in the column - Treatment : 0\n",
    "\n",
    "Null data points in the column - Response_to_Treatment : 0\n",
    "\n",
    "Null data points in the column - Survival_Status : 0\n"
   ]
  },
  {
   "cell_type": "code",
   "execution_count": null,
   "metadata": {},
   "outputs": [],
   "source": [
    "# getting the unique values of the columns\n",
    "uniqueValueMap = {}\n",
    "cols = [\"Gender\",\"Tumor_Type\",\"Biopsy_Result\",\"Treatment\",\"Response_to_Treatment\",\"Survival_Status\"]\n",
    "for column in cols:\n",
    "    uniqueValueMap[column] = list(df[column].unique())\n"
   ]
  },
  {
   "cell_type": "code",
   "execution_count": null,
   "metadata": {},
   "outputs": [],
   "source": [
    "print(uniqueValueMap)"
   ]
  },
  {
   "cell_type": "markdown",
   "metadata": {},
   "source": [
    "One-Hot-Encoding the alphabetical values\n"
   ]
  },
  {
   "cell_type": "code",
   "execution_count": null,
   "metadata": {},
   "outputs": [],
   "source": [
    "for key,value in uniqueValueMap.items():\n",
    "    k = 0\n",
    "    oneHotEncodingMap = {}\n",
    "    for val in value:\n",
    "        oneHotEncodingMap[val] = k\n",
    "        k = k+1\n",
    "    df[key] = df[key].map(oneHotEncodingMap)"
   ]
  },
  {
   "cell_type": "markdown",
   "metadata": {},
   "source": [
    "Mapping for Gender : {'Female': 0, 'Male': 1}\n",
    "\n",
    "Mapping for Tumor_Type : {'Benign': 0, 'Malignant': 1}\n",
    "\n",
    "Mapping for Biopsy_Result : {'Positive': 0, 'Negative': 1}\n",
    "\n",
    "Mapping for Treatment : {'Surgery': 0, 'Radiation Therapy': 1, 'Chemotherapy': 2}\n",
    "\n",
    "Mapping for Response_to_Treatment : {'No Response': 0, 'Complete Response': 1, 'Partial Response': 2}\n",
    "\n",
    "Mapping for Survival_Status : {'Survived': 0, 'Deceased': 1}\n"
   ]
  },
  {
   "cell_type": "code",
   "execution_count": null,
   "metadata": {},
   "outputs": [],
   "source": [
    "df.to_csv(\"../Data/EncodedEHRData.csv\",index=False)"
   ]
  }
 ],
 "metadata": {
  "kernelspec": {
   "display_name": ".venv",
   "language": "python",
   "name": "python3"
  },
  "language_info": {
   "codemirror_mode": {
    "name": "ipython",
    "version": 3
   },
   "file_extension": ".py",
   "mimetype": "text/x-python",
   "name": "python",
   "nbconvert_exporter": "python",
   "pygments_lexer": "ipython3",
   "version": "3.9.6"
  }
 },
 "nbformat": 4,
 "nbformat_minor": 2
}
