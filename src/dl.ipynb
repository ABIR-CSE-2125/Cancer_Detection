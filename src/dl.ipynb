{
 "cells": [
  {
   "cell_type": "code",
   "execution_count": 3,
   "metadata": {},
   "outputs": [],
   "source": [
    "import pandas as pd\n",
    "import numpy as np\n",
    "import matplotlib.pyplot as plt\n",
    "import tensorflow as tf"
   ]
  },
  {
   "cell_type": "code",
   "execution_count": null,
   "metadata": {},
   "outputs": [
    {
     "name": "stdout",
     "output_type": "stream",
     "text": [
      "2.18.0\n"
     ]
    }
   ],
   "source": [
    "print(tf.__version__)"
   ]
  },
  {
   "cell_type": "code",
   "execution_count": 9,
   "metadata": {},
   "outputs": [],
   "source": [
    "## import the data set\n",
    "df = pd.read_csv('../notebook/data/EHR.csv')"
   ]
  },
  {
   "cell_type": "code",
   "execution_count": 10,
   "metadata": {},
   "outputs": [
    {
     "data": {
      "text/html": [
       "<div>\n",
       "<style scoped>\n",
       "    .dataframe tbody tr th:only-of-type {\n",
       "        vertical-align: middle;\n",
       "    }\n",
       "\n",
       "    .dataframe tbody tr th {\n",
       "        vertical-align: top;\n",
       "    }\n",
       "\n",
       "    .dataframe thead th {\n",
       "        text-align: right;\n",
       "    }\n",
       "</style>\n",
       "<table border=\"1\" class=\"dataframe\">\n",
       "  <thead>\n",
       "    <tr style=\"text-align: right;\">\n",
       "      <th></th>\n",
       "      <th>Patient_ID</th>\n",
       "      <th>Age</th>\n",
       "      <th>Gender</th>\n",
       "      <th>Tumor_Size(cm)</th>\n",
       "      <th>Tumor_Type</th>\n",
       "      <th>Biopsy_Result</th>\n",
       "      <th>Treatment</th>\n",
       "      <th>Response_to_Treatment</th>\n",
       "      <th>Survival_Status</th>\n",
       "    </tr>\n",
       "  </thead>\n",
       "  <tbody>\n",
       "    <tr>\n",
       "      <th>0</th>\n",
       "      <td>c044501a-43ca-4a0c-8b8b-991439ba1b6a</td>\n",
       "      <td>52</td>\n",
       "      <td>Female</td>\n",
       "      <td>5.08</td>\n",
       "      <td>Benign</td>\n",
       "      <td>Positive</td>\n",
       "      <td>Surgery</td>\n",
       "      <td>No Response</td>\n",
       "      <td>Survived</td>\n",
       "    </tr>\n",
       "    <tr>\n",
       "      <th>1</th>\n",
       "      <td>b8900c4c-1232-4084-9432-5d02eba74d20</td>\n",
       "      <td>32</td>\n",
       "      <td>Female</td>\n",
       "      <td>0.80</td>\n",
       "      <td>Benign</td>\n",
       "      <td>Negative</td>\n",
       "      <td>Surgery</td>\n",
       "      <td>Complete Response</td>\n",
       "      <td>Survived</td>\n",
       "    </tr>\n",
       "    <tr>\n",
       "      <th>2</th>\n",
       "      <td>3004e2bc-8037-49cb-a542-d5612b73beab</td>\n",
       "      <td>70</td>\n",
       "      <td>Female</td>\n",
       "      <td>9.56</td>\n",
       "      <td>Benign</td>\n",
       "      <td>Positive</td>\n",
       "      <td>Radiation Therapy</td>\n",
       "      <td>Complete Response</td>\n",
       "      <td>Deceased</td>\n",
       "    </tr>\n",
       "    <tr>\n",
       "      <th>3</th>\n",
       "      <td>1df86af7-6745-4dea-b127-cbc9915079fc</td>\n",
       "      <td>21</td>\n",
       "      <td>Female</td>\n",
       "      <td>3.07</td>\n",
       "      <td>Malignant</td>\n",
       "      <td>Negative</td>\n",
       "      <td>Surgery</td>\n",
       "      <td>Partial Response</td>\n",
       "      <td>Survived</td>\n",
       "    </tr>\n",
       "    <tr>\n",
       "      <th>4</th>\n",
       "      <td>128e00c3-72e3-4031-a7f4-1165d7199cce</td>\n",
       "      <td>62</td>\n",
       "      <td>Male</td>\n",
       "      <td>7.17</td>\n",
       "      <td>Malignant</td>\n",
       "      <td>Positive</td>\n",
       "      <td>Radiation Therapy</td>\n",
       "      <td>Complete Response</td>\n",
       "      <td>Deceased</td>\n",
       "    </tr>\n",
       "    <tr>\n",
       "      <th>5</th>\n",
       "      <td>2b3cc8d5-f2f7-4ce2-be51-f5f489b53244</td>\n",
       "      <td>60</td>\n",
       "      <td>Female</td>\n",
       "      <td>8.31</td>\n",
       "      <td>Benign</td>\n",
       "      <td>Negative</td>\n",
       "      <td>Radiation Therapy</td>\n",
       "      <td>Complete Response</td>\n",
       "      <td>Deceased</td>\n",
       "    </tr>\n",
       "    <tr>\n",
       "      <th>6</th>\n",
       "      <td>2f8c5926-bedb-418e-84ed-8b05412e495f</td>\n",
       "      <td>34</td>\n",
       "      <td>Female</td>\n",
       "      <td>0.66</td>\n",
       "      <td>Benign</td>\n",
       "      <td>Negative</td>\n",
       "      <td>Chemotherapy</td>\n",
       "      <td>Complete Response</td>\n",
       "      <td>Survived</td>\n",
       "    </tr>\n",
       "    <tr>\n",
       "      <th>7</th>\n",
       "      <td>315f3ae6-b44c-42a8-9ce3-deb728a662f9</td>\n",
       "      <td>69</td>\n",
       "      <td>Female</td>\n",
       "      <td>2.20</td>\n",
       "      <td>Malignant</td>\n",
       "      <td>Negative</td>\n",
       "      <td>Surgery</td>\n",
       "      <td>Partial Response</td>\n",
       "      <td>Survived</td>\n",
       "    </tr>\n",
       "  </tbody>\n",
       "</table>\n",
       "</div>"
      ],
      "text/plain": [
       "                             Patient_ID  Age  Gender  Tumor_Size(cm)  \\\n",
       "0  c044501a-43ca-4a0c-8b8b-991439ba1b6a   52  Female            5.08   \n",
       "1  b8900c4c-1232-4084-9432-5d02eba74d20   32  Female            0.80   \n",
       "2  3004e2bc-8037-49cb-a542-d5612b73beab   70  Female            9.56   \n",
       "3  1df86af7-6745-4dea-b127-cbc9915079fc   21  Female            3.07   \n",
       "4  128e00c3-72e3-4031-a7f4-1165d7199cce   62    Male            7.17   \n",
       "5  2b3cc8d5-f2f7-4ce2-be51-f5f489b53244   60  Female            8.31   \n",
       "6  2f8c5926-bedb-418e-84ed-8b05412e495f   34  Female            0.66   \n",
       "7  315f3ae6-b44c-42a8-9ce3-deb728a662f9   69  Female            2.20   \n",
       "\n",
       "  Tumor_Type Biopsy_Result          Treatment Response_to_Treatment  \\\n",
       "0     Benign      Positive            Surgery           No Response   \n",
       "1     Benign      Negative            Surgery     Complete Response   \n",
       "2     Benign      Positive  Radiation Therapy     Complete Response   \n",
       "3  Malignant      Negative            Surgery      Partial Response   \n",
       "4  Malignant      Positive  Radiation Therapy     Complete Response   \n",
       "5     Benign      Negative  Radiation Therapy     Complete Response   \n",
       "6     Benign      Negative       Chemotherapy     Complete Response   \n",
       "7  Malignant      Negative            Surgery      Partial Response   \n",
       "\n",
       "  Survival_Status  \n",
       "0        Survived  \n",
       "1        Survived  \n",
       "2        Deceased  \n",
       "3        Survived  \n",
       "4        Deceased  \n",
       "5        Deceased  \n",
       "6        Survived  \n",
       "7        Survived  "
      ]
     },
     "execution_count": 10,
     "metadata": {},
     "output_type": "execute_result"
    }
   ],
   "source": [
    "df.head(8)"
   ]
  },
  {
   "cell_type": "markdown",
   "metadata": {},
   "source": [
    "### Feature Engineering"
   ]
  },
  {
   "cell_type": "code",
   "execution_count": 108,
   "metadata": {},
   "outputs": [],
   "source": [
    "X = df.iloc[:,1:-1]"
   ]
  },
  {
   "cell_type": "code",
   "execution_count": 109,
   "metadata": {},
   "outputs": [
    {
     "data": {
      "text/html": [
       "<div>\n",
       "<style scoped>\n",
       "    .dataframe tbody tr th:only-of-type {\n",
       "        vertical-align: middle;\n",
       "    }\n",
       "\n",
       "    .dataframe tbody tr th {\n",
       "        vertical-align: top;\n",
       "    }\n",
       "\n",
       "    .dataframe thead th {\n",
       "        text-align: right;\n",
       "    }\n",
       "</style>\n",
       "<table border=\"1\" class=\"dataframe\">\n",
       "  <thead>\n",
       "    <tr style=\"text-align: right;\">\n",
       "      <th></th>\n",
       "      <th>Age</th>\n",
       "      <th>Gender</th>\n",
       "      <th>Tumor_Size(cm)</th>\n",
       "      <th>Tumor_Type</th>\n",
       "      <th>Biopsy_Result</th>\n",
       "      <th>Treatment</th>\n",
       "      <th>Response_to_Treatment</th>\n",
       "    </tr>\n",
       "  </thead>\n",
       "  <tbody>\n",
       "    <tr>\n",
       "      <th>0</th>\n",
       "      <td>52</td>\n",
       "      <td>Female</td>\n",
       "      <td>5.08</td>\n",
       "      <td>Benign</td>\n",
       "      <td>Positive</td>\n",
       "      <td>Surgery</td>\n",
       "      <td>No Response</td>\n",
       "    </tr>\n",
       "    <tr>\n",
       "      <th>1</th>\n",
       "      <td>32</td>\n",
       "      <td>Female</td>\n",
       "      <td>0.80</td>\n",
       "      <td>Benign</td>\n",
       "      <td>Negative</td>\n",
       "      <td>Surgery</td>\n",
       "      <td>Complete Response</td>\n",
       "    </tr>\n",
       "    <tr>\n",
       "      <th>2</th>\n",
       "      <td>70</td>\n",
       "      <td>Female</td>\n",
       "      <td>9.56</td>\n",
       "      <td>Benign</td>\n",
       "      <td>Positive</td>\n",
       "      <td>Radiation Therapy</td>\n",
       "      <td>Complete Response</td>\n",
       "    </tr>\n",
       "    <tr>\n",
       "      <th>3</th>\n",
       "      <td>21</td>\n",
       "      <td>Female</td>\n",
       "      <td>3.07</td>\n",
       "      <td>Malignant</td>\n",
       "      <td>Negative</td>\n",
       "      <td>Surgery</td>\n",
       "      <td>Partial Response</td>\n",
       "    </tr>\n",
       "    <tr>\n",
       "      <th>4</th>\n",
       "      <td>62</td>\n",
       "      <td>Male</td>\n",
       "      <td>7.17</td>\n",
       "      <td>Malignant</td>\n",
       "      <td>Positive</td>\n",
       "      <td>Radiation Therapy</td>\n",
       "      <td>Complete Response</td>\n",
       "    </tr>\n",
       "  </tbody>\n",
       "</table>\n",
       "</div>"
      ],
      "text/plain": [
       "   Age  Gender  Tumor_Size(cm) Tumor_Type Biopsy_Result          Treatment  \\\n",
       "0   52  Female            5.08     Benign      Positive            Surgery   \n",
       "1   32  Female            0.80     Benign      Negative            Surgery   \n",
       "2   70  Female            9.56     Benign      Positive  Radiation Therapy   \n",
       "3   21  Female            3.07  Malignant      Negative            Surgery   \n",
       "4   62    Male            7.17  Malignant      Positive  Radiation Therapy   \n",
       "\n",
       "  Response_to_Treatment  \n",
       "0           No Response  \n",
       "1     Complete Response  \n",
       "2     Complete Response  \n",
       "3      Partial Response  \n",
       "4     Complete Response  "
      ]
     },
     "execution_count": 109,
     "metadata": {},
     "output_type": "execute_result"
    }
   ],
   "source": [
    "X.head()"
   ]
  },
  {
   "cell_type": "code",
   "execution_count": 111,
   "metadata": {},
   "outputs": [],
   "source": [
    "y = df.iloc[:,-1]"
   ]
  },
  {
   "cell_type": "code",
   "execution_count": 112,
   "metadata": {},
   "outputs": [
    {
     "data": {
      "text/plain": [
       "0    Survived\n",
       "1    Survived\n",
       "2    Deceased\n",
       "3    Survived\n",
       "4    Deceased\n",
       "Name: Survival_Status, dtype: object"
      ]
     },
     "execution_count": 112,
     "metadata": {},
     "output_type": "execute_result"
    }
   ],
   "source": [
    "y.head()"
   ]
  },
  {
   "cell_type": "code",
   "execution_count": 113,
   "metadata": {},
   "outputs": [],
   "source": [
    "y = (y == 'Survived').astype(int)"
   ]
  },
  {
   "cell_type": "code",
   "execution_count": 114,
   "metadata": {},
   "outputs": [
    {
     "data": {
      "text/plain": [
       "0    1\n",
       "1    1\n",
       "2    0\n",
       "3    1\n",
       "4    0\n",
       "Name: Survival_Status, dtype: int64"
      ]
     },
     "execution_count": 114,
     "metadata": {},
     "output_type": "execute_result"
    }
   ],
   "source": [
    "y.head()"
   ]
  },
  {
   "cell_type": "code",
   "execution_count": 115,
   "metadata": {},
   "outputs": [],
   "source": [
    "gender = pd.get_dummies(X['Gender'],drop_first=True,dtype=int)\n",
    "tumor_type = pd.get_dummies(X['Tumor_Type'],drop_first=True,dtype=int)\n",
    "biopsy_result = pd.get_dummies(X['Biopsy_Result'],drop_first=True,dtype=int)\n",
    "treatment = pd.get_dummies(X['Treatment'],drop_first=True,dtype=int)\n",
    "response_to_treatment = pd.get_dummies(X['Response_to_Treatment'],drop_first=True,dtype=int)\n"
   ]
  },
  {
   "cell_type": "code",
   "execution_count": 116,
   "metadata": {},
   "outputs": [],
   "source": [
    "X = X.drop(['Gender','Tumor_Type','Biopsy_Result','Treatment','Response_to_Treatment'],axis=1)"
   ]
  },
  {
   "cell_type": "code",
   "execution_count": 117,
   "metadata": {},
   "outputs": [],
   "source": [
    "X = pd.concat([X,gender,tumor_type,response_to_treatment,biopsy_result,treatment],axis=1)"
   ]
  },
  {
   "cell_type": "code",
   "execution_count": 118,
   "metadata": {},
   "outputs": [
    {
     "data": {
      "text/html": [
       "<div>\n",
       "<style scoped>\n",
       "    .dataframe tbody tr th:only-of-type {\n",
       "        vertical-align: middle;\n",
       "    }\n",
       "\n",
       "    .dataframe tbody tr th {\n",
       "        vertical-align: top;\n",
       "    }\n",
       "\n",
       "    .dataframe thead th {\n",
       "        text-align: right;\n",
       "    }\n",
       "</style>\n",
       "<table border=\"1\" class=\"dataframe\">\n",
       "  <thead>\n",
       "    <tr style=\"text-align: right;\">\n",
       "      <th></th>\n",
       "      <th>Age</th>\n",
       "      <th>Tumor_Size(cm)</th>\n",
       "      <th>Male</th>\n",
       "      <th>Malignant</th>\n",
       "      <th>No Response</th>\n",
       "      <th>Partial Response</th>\n",
       "      <th>Positive</th>\n",
       "      <th>Radiation Therapy</th>\n",
       "      <th>Surgery</th>\n",
       "    </tr>\n",
       "  </thead>\n",
       "  <tbody>\n",
       "    <tr>\n",
       "      <th>0</th>\n",
       "      <td>52</td>\n",
       "      <td>5.08</td>\n",
       "      <td>0</td>\n",
       "      <td>0</td>\n",
       "      <td>1</td>\n",
       "      <td>0</td>\n",
       "      <td>1</td>\n",
       "      <td>0</td>\n",
       "      <td>1</td>\n",
       "    </tr>\n",
       "    <tr>\n",
       "      <th>1</th>\n",
       "      <td>32</td>\n",
       "      <td>0.80</td>\n",
       "      <td>0</td>\n",
       "      <td>0</td>\n",
       "      <td>0</td>\n",
       "      <td>0</td>\n",
       "      <td>0</td>\n",
       "      <td>0</td>\n",
       "      <td>1</td>\n",
       "    </tr>\n",
       "    <tr>\n",
       "      <th>2</th>\n",
       "      <td>70</td>\n",
       "      <td>9.56</td>\n",
       "      <td>0</td>\n",
       "      <td>0</td>\n",
       "      <td>0</td>\n",
       "      <td>0</td>\n",
       "      <td>1</td>\n",
       "      <td>1</td>\n",
       "      <td>0</td>\n",
       "    </tr>\n",
       "    <tr>\n",
       "      <th>3</th>\n",
       "      <td>21</td>\n",
       "      <td>3.07</td>\n",
       "      <td>0</td>\n",
       "      <td>1</td>\n",
       "      <td>0</td>\n",
       "      <td>1</td>\n",
       "      <td>0</td>\n",
       "      <td>0</td>\n",
       "      <td>1</td>\n",
       "    </tr>\n",
       "    <tr>\n",
       "      <th>4</th>\n",
       "      <td>62</td>\n",
       "      <td>7.17</td>\n",
       "      <td>1</td>\n",
       "      <td>1</td>\n",
       "      <td>0</td>\n",
       "      <td>0</td>\n",
       "      <td>1</td>\n",
       "      <td>1</td>\n",
       "      <td>0</td>\n",
       "    </tr>\n",
       "  </tbody>\n",
       "</table>\n",
       "</div>"
      ],
      "text/plain": [
       "   Age  Tumor_Size(cm)  Male  Malignant  No Response  Partial Response  \\\n",
       "0   52            5.08     0          0            1                 0   \n",
       "1   32            0.80     0          0            0                 0   \n",
       "2   70            9.56     0          0            0                 0   \n",
       "3   21            3.07     0          1            0                 1   \n",
       "4   62            7.17     1          1            0                 0   \n",
       "\n",
       "   Positive  Radiation Therapy  Surgery  \n",
       "0         1                  0        1  \n",
       "1         0                  0        1  \n",
       "2         1                  1        0  \n",
       "3         0                  0        1  \n",
       "4         1                  1        0  "
      ]
     },
     "execution_count": 118,
     "metadata": {},
     "output_type": "execute_result"
    }
   ],
   "source": [
    "X.head()"
   ]
  },
  {
   "cell_type": "code",
   "execution_count": null,
   "metadata": {},
   "outputs": [],
   "source": [
    "## train_test split"
   ]
  },
  {
   "cell_type": "code",
   "execution_count": 39,
   "metadata": {},
   "outputs": [],
   "source": [
    "from sklearn.model_selection import train_test_split"
   ]
  },
  {
   "cell_type": "code",
   "execution_count": 119,
   "metadata": {},
   "outputs": [],
   "source": [
    "X_train,X_test,y_train,y_test = train_test_split(X,y,test_size=0.2,shuffle=True)"
   ]
  },
  {
   "cell_type": "code",
   "execution_count": 120,
   "metadata": {},
   "outputs": [
    {
     "data": {
      "text/plain": [
       "(16000, 9)"
      ]
     },
     "execution_count": 120,
     "metadata": {},
     "output_type": "execute_result"
    }
   ],
   "source": [
    "X_train.shape"
   ]
  },
  {
   "cell_type": "code",
   "execution_count": 121,
   "metadata": {},
   "outputs": [
    {
     "data": {
      "text/plain": [
       "(4000,)"
      ]
     },
     "execution_count": 121,
     "metadata": {},
     "output_type": "execute_result"
    }
   ],
   "source": [
    "y_test.shape"
   ]
  },
  {
   "cell_type": "code",
   "execution_count": 63,
   "metadata": {},
   "outputs": [],
   "source": [
    "from sklearn.preprocessing import StandardScaler"
   ]
  },
  {
   "cell_type": "code",
   "execution_count": 122,
   "metadata": {},
   "outputs": [],
   "source": [
    "sc = StandardScaler()\n",
    "X_train = sc.fit_transform(X_train)"
   ]
  },
  {
   "cell_type": "code",
   "execution_count": 123,
   "metadata": {},
   "outputs": [],
   "source": [
    "X_test = sc.transform(X_test)"
   ]
  },
  {
   "cell_type": "markdown",
   "metadata": {},
   "source": [
    "### Model constuction"
   ]
  },
  {
   "cell_type": "code",
   "execution_count": 58,
   "metadata": {},
   "outputs": [],
   "source": [
    "from tensorflow.keras import Sequential\n",
    "from tensorflow.keras.layers  import Dense, ReLU,ELU"
   ]
  },
  {
   "cell_type": "code",
   "execution_count": 166,
   "metadata": {},
   "outputs": [
    {
     "name": "stderr",
     "output_type": "stream",
     "text": [
      "/Users/abirbera/Developer/college/projects/bcse-4/.venv/lib/python3.12/site-packages/keras/src/layers/core/dense.py:87: UserWarning: Do not pass an `input_shape`/`input_dim` argument to a layer. When using Sequential models, prefer using an `Input(shape)` object as the first layer in the model instead.\n",
      "  super().__init__(activity_regularizer=activity_regularizer, **kwargs)\n"
     ]
    }
   ],
   "source": [
    "model = Sequential([\n",
    "    Dense(64, input_dim=9, activation='relu'),  # Input layer with 9 features\n",
    "    Dense(32, activation='relu'),               # Hidden layer\n",
    "    Dense(1, activation='sigmoid')              # Output layer (binary classification)\n",
    "])"
   ]
  },
  {
   "cell_type": "code",
   "execution_count": 157,
   "metadata": {},
   "outputs": [],
   "source": [
    "model.add(Dense(9,activation=ReLU))"
   ]
  },
  {
   "cell_type": "code",
   "execution_count": 158,
   "metadata": {},
   "outputs": [],
   "source": [
    "model.add(Dense(5,activation=ReLU))"
   ]
  },
  {
   "cell_type": "code",
   "execution_count": null,
   "metadata": {},
   "outputs": [],
   "source": [
    "model.add(Dense(1,activation='sigmoid'))"
   ]
  },
  {
   "cell_type": "markdown",
   "metadata": {},
   "source": [
    "### Model Trinaing"
   ]
  },
  {
   "cell_type": "code",
   "execution_count": 124,
   "metadata": {},
   "outputs": [],
   "source": [
    "train_batch_X = X_train[:5000]\n",
    "train_batch_y = y_train[:5000]"
   ]
  },
  {
   "cell_type": "code",
   "execution_count": 128,
   "metadata": {},
   "outputs": [
    {
     "data": {
      "text/plain": [
       "(5000,)"
      ]
     },
     "execution_count": 128,
     "metadata": {},
     "output_type": "execute_result"
    }
   ],
   "source": [
    "train_batch_y.shape"
   ]
  },
  {
   "cell_type": "code",
   "execution_count": 165,
   "metadata": {},
   "outputs": [
    {
     "data": {
      "text/plain": [
       "(5000, 9)"
      ]
     },
     "execution_count": 165,
     "metadata": {},
     "output_type": "execute_result"
    }
   ],
   "source": [
    "train_batch_X.shape"
   ]
  },
  {
   "cell_type": "code",
   "execution_count": 134,
   "metadata": {},
   "outputs": [
    {
     "data": {
      "text/plain": [
       "array([ 0.00453591,  1.64429665,  1.01892912,  1.0006252 , -0.71085557,\n",
       "        1.3971505 , -0.996257  , -0.70181003, -0.69744983])"
      ]
     },
     "execution_count": 134,
     "metadata": {},
     "output_type": "execute_result"
    }
   ],
   "source": [
    "train_batch_X[1]"
   ]
  },
  {
   "cell_type": "code",
   "execution_count": 95,
   "metadata": {},
   "outputs": [
    {
     "data": {
      "text/plain": [
       "pandas.core.series.Series"
      ]
     },
     "execution_count": 95,
     "metadata": {},
     "output_type": "execute_result"
    }
   ],
   "source": [
    "type(train_batch_y)"
   ]
  },
  {
   "cell_type": "code",
   "execution_count": 167,
   "metadata": {},
   "outputs": [],
   "source": [
    "model.compile(optimizer='adam',metrics=['accuracy'],loss='binary_crossentropy')"
   ]
  },
  {
   "cell_type": "code",
   "execution_count": 130,
   "metadata": {},
   "outputs": [],
   "source": [
    "es = tf.keras.callbacks.EarlyStopping(\n",
    "    monitor='val_loss',\n",
    "    min_delta=0,\n",
    "    patience=0,\n",
    "    verbose=0,\n",
    "    mode='auto',\n",
    "    baseline=None,\n",
    "    restore_best_weights=False,\n",
    "    start_from_epoch=0\n",
    ")"
   ]
  },
  {
   "cell_type": "code",
   "execution_count": 163,
   "metadata": {},
   "outputs": [
    {
     "data": {
      "text/plain": [
       "<Sequential name=sequential_2, built=False>"
      ]
     },
     "execution_count": 163,
     "metadata": {},
     "output_type": "execute_result"
    }
   ],
   "source": [
    "model"
   ]
  },
  {
   "cell_type": "code",
   "execution_count": 170,
   "metadata": {},
   "outputs": [
    {
     "name": "stdout",
     "output_type": "stream",
     "text": [
      "Epoch 1/100\n",
      "\u001b[1m400/400\u001b[0m \u001b[32m━━━━━━━━━━━━━━━━━━━━\u001b[0m\u001b[37m\u001b[0m \u001b[1m0s\u001b[0m 406us/step - accuracy: 0.5190 - loss: 0.6929 - val_accuracy: 0.5147 - val_loss: 0.6948\n",
      "Epoch 2/100\n",
      "\u001b[1m400/400\u001b[0m \u001b[32m━━━━━━━━━━━━━━━━━━━━\u001b[0m\u001b[37m\u001b[0m \u001b[1m0s\u001b[0m 374us/step - accuracy: 0.5341 - loss: 0.6896 - val_accuracy: 0.5088 - val_loss: 0.6946\n",
      "Epoch 3/100\n",
      "\u001b[1m400/400\u001b[0m \u001b[32m━━━━━━━━━━━━━━━━━━━━\u001b[0m\u001b[37m\u001b[0m \u001b[1m0s\u001b[0m 384us/step - accuracy: 0.5370 - loss: 0.6892 - val_accuracy: 0.5109 - val_loss: 0.6942\n",
      "Epoch 4/100\n",
      "\u001b[1m400/400\u001b[0m \u001b[32m━━━━━━━━━━━━━━━━━━━━\u001b[0m\u001b[37m\u001b[0m \u001b[1m0s\u001b[0m 366us/step - accuracy: 0.5413 - loss: 0.6887 - val_accuracy: 0.5116 - val_loss: 0.6947\n",
      "Epoch 5/100\n",
      "\u001b[1m400/400\u001b[0m \u001b[32m━━━━━━━━━━━━━━━━━━━━\u001b[0m\u001b[37m\u001b[0m \u001b[1m0s\u001b[0m 384us/step - accuracy: 0.5372 - loss: 0.6882 - val_accuracy: 0.5044 - val_loss: 0.6961\n",
      "Epoch 6/100\n",
      "\u001b[1m400/400\u001b[0m \u001b[32m━━━━━━━━━━━━━━━━━━━━\u001b[0m\u001b[37m\u001b[0m \u001b[1m0s\u001b[0m 659us/step - accuracy: 0.5406 - loss: 0.6875 - val_accuracy: 0.5100 - val_loss: 0.6957\n",
      "Epoch 7/100\n",
      "\u001b[1m400/400\u001b[0m \u001b[32m━━━━━━━━━━━━━━━━━━━━\u001b[0m\u001b[37m\u001b[0m \u001b[1m0s\u001b[0m 384us/step - accuracy: 0.5521 - loss: 0.6863 - val_accuracy: 0.5181 - val_loss: 0.6949\n",
      "Epoch 8/100\n",
      "\u001b[1m400/400\u001b[0m \u001b[32m━━━━━━━━━━━━━━━━━━━━\u001b[0m\u001b[37m\u001b[0m \u001b[1m0s\u001b[0m 352us/step - accuracy: 0.5499 - loss: 0.6861 - val_accuracy: 0.4903 - val_loss: 0.6991\n",
      "Epoch 9/100\n",
      "\u001b[1m400/400\u001b[0m \u001b[32m━━━━━━━━━━━━━━━━━━━━\u001b[0m\u001b[37m\u001b[0m \u001b[1m0s\u001b[0m 357us/step - accuracy: 0.5399 - loss: 0.6867 - val_accuracy: 0.4931 - val_loss: 0.6992\n",
      "Epoch 10/100\n",
      "\u001b[1m400/400\u001b[0m \u001b[32m━━━━━━━━━━━━━━━━━━━━\u001b[0m\u001b[37m\u001b[0m \u001b[1m0s\u001b[0m 524us/step - accuracy: 0.5476 - loss: 0.6862 - val_accuracy: 0.5047 - val_loss: 0.6960\n",
      "Epoch 11/100\n",
      "\u001b[1m400/400\u001b[0m \u001b[32m━━━━━━━━━━━━━━━━━━━━\u001b[0m\u001b[37m\u001b[0m \u001b[1m0s\u001b[0m 361us/step - accuracy: 0.5540 - loss: 0.6837 - val_accuracy: 0.5078 - val_loss: 0.6973\n",
      "Epoch 12/100\n",
      "\u001b[1m400/400\u001b[0m \u001b[32m━━━━━━━━━━━━━━━━━━━━\u001b[0m\u001b[37m\u001b[0m \u001b[1m0s\u001b[0m 366us/step - accuracy: 0.5545 - loss: 0.6832 - val_accuracy: 0.5047 - val_loss: 0.6983\n",
      "Epoch 13/100\n",
      "\u001b[1m400/400\u001b[0m \u001b[32m━━━━━━━━━━━━━━━━━━━━\u001b[0m\u001b[37m\u001b[0m \u001b[1m0s\u001b[0m 406us/step - accuracy: 0.5583 - loss: 0.6830 - val_accuracy: 0.5019 - val_loss: 0.6976\n",
      "Epoch 14/100\n",
      "\u001b[1m400/400\u001b[0m \u001b[32m━━━━━━━━━━━━━━━━━━━━\u001b[0m\u001b[37m\u001b[0m \u001b[1m0s\u001b[0m 409us/step - accuracy: 0.5546 - loss: 0.6826 - val_accuracy: 0.5134 - val_loss: 0.6968\n",
      "Epoch 15/100\n",
      "\u001b[1m400/400\u001b[0m \u001b[32m━━━━━━━━━━━━━━━━━━━━\u001b[0m\u001b[37m\u001b[0m \u001b[1m0s\u001b[0m 381us/step - accuracy: 0.5589 - loss: 0.6813 - val_accuracy: 0.5044 - val_loss: 0.6980\n",
      "Epoch 16/100\n",
      "\u001b[1m400/400\u001b[0m \u001b[32m━━━━━━━━━━━━━━━━━━━━\u001b[0m\u001b[37m\u001b[0m \u001b[1m0s\u001b[0m 442us/step - accuracy: 0.5532 - loss: 0.6826 - val_accuracy: 0.5016 - val_loss: 0.7000\n",
      "Epoch 17/100\n",
      "\u001b[1m400/400\u001b[0m \u001b[32m━━━━━━━━━━━━━━━━━━━━\u001b[0m\u001b[37m\u001b[0m \u001b[1m0s\u001b[0m 447us/step - accuracy: 0.5631 - loss: 0.6827 - val_accuracy: 0.5009 - val_loss: 0.6989\n",
      "Epoch 18/100\n",
      "\u001b[1m400/400\u001b[0m \u001b[32m━━━━━━━━━━━━━━━━━━━━\u001b[0m\u001b[37m\u001b[0m \u001b[1m0s\u001b[0m 362us/step - accuracy: 0.5611 - loss: 0.6808 - val_accuracy: 0.4919 - val_loss: 0.7008\n",
      "Epoch 19/100\n",
      "\u001b[1m400/400\u001b[0m \u001b[32m━━━━━━━━━━━━━━━━━━━━\u001b[0m\u001b[37m\u001b[0m \u001b[1m0s\u001b[0m 362us/step - accuracy: 0.5767 - loss: 0.6792 - val_accuracy: 0.5088 - val_loss: 0.6982\n",
      "Epoch 20/100\n",
      "\u001b[1m400/400\u001b[0m \u001b[32m━━━━━━━━━━━━━━━━━━━━\u001b[0m\u001b[37m\u001b[0m \u001b[1m0s\u001b[0m 377us/step - accuracy: 0.5562 - loss: 0.6800 - val_accuracy: 0.5059 - val_loss: 0.6986\n",
      "Epoch 21/100\n",
      "\u001b[1m400/400\u001b[0m \u001b[32m━━━━━━━━━━━━━━━━━━━━\u001b[0m\u001b[37m\u001b[0m \u001b[1m0s\u001b[0m 559us/step - accuracy: 0.5699 - loss: 0.6788 - val_accuracy: 0.5097 - val_loss: 0.7019\n",
      "Epoch 22/100\n",
      "\u001b[1m400/400\u001b[0m \u001b[32m━━━━━━━━━━━━━━━━━━━━\u001b[0m\u001b[37m\u001b[0m \u001b[1m0s\u001b[0m 623us/step - accuracy: 0.5609 - loss: 0.6825 - val_accuracy: 0.5122 - val_loss: 0.7007\n",
      "Epoch 23/100\n",
      "\u001b[1m400/400\u001b[0m \u001b[32m━━━━━━━━━━━━━━━━━━━━\u001b[0m\u001b[37m\u001b[0m \u001b[1m0s\u001b[0m 371us/step - accuracy: 0.5698 - loss: 0.6794 - val_accuracy: 0.4972 - val_loss: 0.7062\n",
      "Epoch 24/100\n",
      "\u001b[1m400/400\u001b[0m \u001b[32m━━━━━━━━━━━━━━━━━━━━\u001b[0m\u001b[37m\u001b[0m \u001b[1m0s\u001b[0m 426us/step - accuracy: 0.5685 - loss: 0.6799 - val_accuracy: 0.5088 - val_loss: 0.7008\n",
      "Epoch 25/100\n",
      "\u001b[1m400/400\u001b[0m \u001b[32m━━━━━━━━━━━━━━━━━━━━\u001b[0m\u001b[37m\u001b[0m \u001b[1m0s\u001b[0m 374us/step - accuracy: 0.5664 - loss: 0.6813 - val_accuracy: 0.5119 - val_loss: 0.7006\n",
      "Epoch 26/100\n",
      "\u001b[1m400/400\u001b[0m \u001b[32m━━━━━━━━━━━━━━━━━━━━\u001b[0m\u001b[37m\u001b[0m \u001b[1m0s\u001b[0m 370us/step - accuracy: 0.5772 - loss: 0.6769 - val_accuracy: 0.5009 - val_loss: 0.7032\n",
      "Epoch 27/100\n",
      "\u001b[1m400/400\u001b[0m \u001b[32m━━━━━━━━━━━━━━━━━━━━\u001b[0m\u001b[37m\u001b[0m \u001b[1m0s\u001b[0m 378us/step - accuracy: 0.5714 - loss: 0.6779 - val_accuracy: 0.5097 - val_loss: 0.7012\n",
      "Epoch 28/100\n",
      "\u001b[1m400/400\u001b[0m \u001b[32m━━━━━━━━━━━━━━━━━━━━\u001b[0m\u001b[37m\u001b[0m \u001b[1m0s\u001b[0m 371us/step - accuracy: 0.5664 - loss: 0.6781 - val_accuracy: 0.5100 - val_loss: 0.7032\n",
      "Epoch 29/100\n",
      "\u001b[1m400/400\u001b[0m \u001b[32m━━━━━━━━━━━━━━━━━━━━\u001b[0m\u001b[37m\u001b[0m \u001b[1m0s\u001b[0m 358us/step - accuracy: 0.5685 - loss: 0.6776 - val_accuracy: 0.5053 - val_loss: 0.7032\n",
      "Epoch 30/100\n",
      "\u001b[1m400/400\u001b[0m \u001b[32m━━━━━━━━━━━━━━━━━━━━\u001b[0m\u001b[37m\u001b[0m \u001b[1m0s\u001b[0m 538us/step - accuracy: 0.5668 - loss: 0.6762 - val_accuracy: 0.4975 - val_loss: 0.7050\n",
      "Epoch 31/100\n",
      "\u001b[1m400/400\u001b[0m \u001b[32m━━━━━━━━━━━━━━━━━━━━\u001b[0m\u001b[37m\u001b[0m \u001b[1m0s\u001b[0m 363us/step - accuracy: 0.5723 - loss: 0.6770 - val_accuracy: 0.5003 - val_loss: 0.7040\n",
      "Epoch 32/100\n",
      "\u001b[1m400/400\u001b[0m \u001b[32m━━━━━━━━━━━━━━━━━━━━\u001b[0m\u001b[37m\u001b[0m \u001b[1m0s\u001b[0m 392us/step - accuracy: 0.5765 - loss: 0.6745 - val_accuracy: 0.5163 - val_loss: 0.7017\n",
      "Epoch 33/100\n",
      "\u001b[1m400/400\u001b[0m \u001b[32m━━━━━━━━━━━━━━━━━━━━\u001b[0m\u001b[37m\u001b[0m \u001b[1m0s\u001b[0m 358us/step - accuracy: 0.5774 - loss: 0.6728 - val_accuracy: 0.5084 - val_loss: 0.7031\n",
      "Epoch 34/100\n",
      "\u001b[1m400/400\u001b[0m \u001b[32m━━━━━━━━━━━━━━━━━━━━\u001b[0m\u001b[37m\u001b[0m \u001b[1m0s\u001b[0m 372us/step - accuracy: 0.5755 - loss: 0.6736 - val_accuracy: 0.5022 - val_loss: 0.7040\n",
      "Epoch 35/100\n",
      "\u001b[1m400/400\u001b[0m \u001b[32m━━━━━━━━━━━━━━━━━━━━\u001b[0m\u001b[37m\u001b[0m \u001b[1m0s\u001b[0m 364us/step - accuracy: 0.5800 - loss: 0.6744 - val_accuracy: 0.5031 - val_loss: 0.7044\n",
      "Epoch 36/100\n",
      "\u001b[1m400/400\u001b[0m \u001b[32m━━━━━━━━━━━━━━━━━━━━\u001b[0m\u001b[37m\u001b[0m \u001b[1m0s\u001b[0m 367us/step - accuracy: 0.5869 - loss: 0.6722 - val_accuracy: 0.5150 - val_loss: 0.7018\n",
      "Epoch 37/100\n",
      "\u001b[1m400/400\u001b[0m \u001b[32m━━━━━━━━━━━━━━━━━━━━\u001b[0m\u001b[37m\u001b[0m \u001b[1m0s\u001b[0m 366us/step - accuracy: 0.5777 - loss: 0.6744 - val_accuracy: 0.5047 - val_loss: 0.7065\n",
      "Epoch 38/100\n",
      "\u001b[1m400/400\u001b[0m \u001b[32m━━━━━━━━━━━━━━━━━━━━\u001b[0m\u001b[37m\u001b[0m \u001b[1m0s\u001b[0m 358us/step - accuracy: 0.5793 - loss: 0.6725 - val_accuracy: 0.5025 - val_loss: 0.7042\n",
      "Epoch 39/100\n",
      "\u001b[1m400/400\u001b[0m \u001b[32m━━━━━━━━━━━━━━━━━━━━\u001b[0m\u001b[37m\u001b[0m \u001b[1m0s\u001b[0m 362us/step - accuracy: 0.5724 - loss: 0.6733 - val_accuracy: 0.5078 - val_loss: 0.7044\n",
      "Epoch 40/100\n",
      "\u001b[1m400/400\u001b[0m \u001b[32m━━━━━━━━━━━━━━━━━━━━\u001b[0m\u001b[37m\u001b[0m \u001b[1m0s\u001b[0m 377us/step - accuracy: 0.5789 - loss: 0.6720 - val_accuracy: 0.5044 - val_loss: 0.7046\n",
      "Epoch 41/100\n",
      "\u001b[1m400/400\u001b[0m \u001b[32m━━━━━━━━━━━━━━━━━━━━\u001b[0m\u001b[37m\u001b[0m \u001b[1m0s\u001b[0m 361us/step - accuracy: 0.5739 - loss: 0.6747 - val_accuracy: 0.4997 - val_loss: 0.7063\n",
      "Epoch 42/100\n",
      "\u001b[1m400/400\u001b[0m \u001b[32m━━━━━━━━━━━━━━━━━━━━\u001b[0m\u001b[37m\u001b[0m \u001b[1m0s\u001b[0m 350us/step - accuracy: 0.5809 - loss: 0.6739 - val_accuracy: 0.5106 - val_loss: 0.7086\n",
      "Epoch 43/100\n",
      "\u001b[1m400/400\u001b[0m \u001b[32m━━━━━━━━━━━━━━━━━━━━\u001b[0m\u001b[37m\u001b[0m \u001b[1m0s\u001b[0m 367us/step - accuracy: 0.5730 - loss: 0.6756 - val_accuracy: 0.5041 - val_loss: 0.7085\n",
      "Epoch 44/100\n",
      "\u001b[1m400/400\u001b[0m \u001b[32m━━━━━━━━━━━━━━━━━━━━\u001b[0m\u001b[37m\u001b[0m \u001b[1m0s\u001b[0m 351us/step - accuracy: 0.5783 - loss: 0.6724 - val_accuracy: 0.5128 - val_loss: 0.7065\n",
      "Epoch 45/100\n",
      "\u001b[1m400/400\u001b[0m \u001b[32m━━━━━━━━━━━━━━━━━━━━\u001b[0m\u001b[37m\u001b[0m \u001b[1m0s\u001b[0m 358us/step - accuracy: 0.5780 - loss: 0.6728 - val_accuracy: 0.5078 - val_loss: 0.7064\n",
      "Epoch 46/100\n",
      "\u001b[1m400/400\u001b[0m \u001b[32m━━━━━━━━━━━━━━━━━━━━\u001b[0m\u001b[37m\u001b[0m \u001b[1m0s\u001b[0m 370us/step - accuracy: 0.5809 - loss: 0.6715 - val_accuracy: 0.4947 - val_loss: 0.7100\n",
      "Epoch 47/100\n",
      "\u001b[1m400/400\u001b[0m \u001b[32m━━━━━━━━━━━━━━━━━━━━\u001b[0m\u001b[37m\u001b[0m \u001b[1m0s\u001b[0m 365us/step - accuracy: 0.5795 - loss: 0.6704 - val_accuracy: 0.5144 - val_loss: 0.7087\n",
      "Epoch 48/100\n",
      "\u001b[1m400/400\u001b[0m \u001b[32m━━━━━━━━━━━━━━━━━━━━\u001b[0m\u001b[37m\u001b[0m \u001b[1m0s\u001b[0m 399us/step - accuracy: 0.5796 - loss: 0.6711 - val_accuracy: 0.5047 - val_loss: 0.7062\n",
      "Epoch 49/100\n",
      "\u001b[1m400/400\u001b[0m \u001b[32m━━━━━━━━━━━━━━━━━━━━\u001b[0m\u001b[37m\u001b[0m \u001b[1m0s\u001b[0m 372us/step - accuracy: 0.5815 - loss: 0.6693 - val_accuracy: 0.5088 - val_loss: 0.7064\n",
      "Epoch 50/100\n",
      "\u001b[1m400/400\u001b[0m \u001b[32m━━━━━━━━━━━━━━━━━━━━\u001b[0m\u001b[37m\u001b[0m \u001b[1m0s\u001b[0m 358us/step - accuracy: 0.5760 - loss: 0.6735 - val_accuracy: 0.5134 - val_loss: 0.7063\n",
      "Epoch 51/100\n",
      "\u001b[1m400/400\u001b[0m \u001b[32m━━━━━━━━━━━━━━━━━━━━\u001b[0m\u001b[37m\u001b[0m \u001b[1m0s\u001b[0m 366us/step - accuracy: 0.5861 - loss: 0.6714 - val_accuracy: 0.5131 - val_loss: 0.7080\n",
      "Epoch 52/100\n",
      "\u001b[1m400/400\u001b[0m \u001b[32m━━━━━━━━━━━━━━━━━━━━\u001b[0m\u001b[37m\u001b[0m \u001b[1m0s\u001b[0m 361us/step - accuracy: 0.5730 - loss: 0.6731 - val_accuracy: 0.5094 - val_loss: 0.7088\n",
      "Epoch 53/100\n",
      "\u001b[1m400/400\u001b[0m \u001b[32m━━━━━━━━━━━━━━━━━━━━\u001b[0m\u001b[37m\u001b[0m \u001b[1m0s\u001b[0m 372us/step - accuracy: 0.5908 - loss: 0.6686 - val_accuracy: 0.5059 - val_loss: 0.7098\n",
      "Epoch 54/100\n",
      "\u001b[1m400/400\u001b[0m \u001b[32m━━━━━━━━━━━━━━━━━━━━\u001b[0m\u001b[37m\u001b[0m \u001b[1m0s\u001b[0m 364us/step - accuracy: 0.5939 - loss: 0.6676 - val_accuracy: 0.5050 - val_loss: 0.7060\n",
      "Epoch 55/100\n",
      "\u001b[1m400/400\u001b[0m \u001b[32m━━━━━━━━━━━━━━━━━━━━\u001b[0m\u001b[37m\u001b[0m \u001b[1m0s\u001b[0m 502us/step - accuracy: 0.5897 - loss: 0.6689 - val_accuracy: 0.5013 - val_loss: 0.7082\n",
      "Epoch 56/100\n",
      "\u001b[1m400/400\u001b[0m \u001b[32m━━━━━━━━━━━━━━━━━━━━\u001b[0m\u001b[37m\u001b[0m \u001b[1m0s\u001b[0m 371us/step - accuracy: 0.5883 - loss: 0.6677 - val_accuracy: 0.4991 - val_loss: 0.7128\n",
      "Epoch 57/100\n",
      "\u001b[1m400/400\u001b[0m \u001b[32m━━━━━━━━━━━━━━━━━━━━\u001b[0m\u001b[37m\u001b[0m \u001b[1m0s\u001b[0m 371us/step - accuracy: 0.5832 - loss: 0.6695 - val_accuracy: 0.5041 - val_loss: 0.7078\n",
      "Epoch 58/100\n",
      "\u001b[1m400/400\u001b[0m \u001b[32m━━━━━━━━━━━━━━━━━━━━\u001b[0m\u001b[37m\u001b[0m \u001b[1m0s\u001b[0m 371us/step - accuracy: 0.5897 - loss: 0.6680 - val_accuracy: 0.5013 - val_loss: 0.7097\n",
      "Epoch 59/100\n",
      "\u001b[1m400/400\u001b[0m \u001b[32m━━━━━━━━━━━━━━━━━━━━\u001b[0m\u001b[37m\u001b[0m \u001b[1m0s\u001b[0m 369us/step - accuracy: 0.5925 - loss: 0.6675 - val_accuracy: 0.5169 - val_loss: 0.7087\n",
      "Epoch 60/100\n",
      "\u001b[1m400/400\u001b[0m \u001b[32m━━━━━━━━━━━━━━━━━━━━\u001b[0m\u001b[37m\u001b[0m \u001b[1m0s\u001b[0m 369us/step - accuracy: 0.5824 - loss: 0.6704 - val_accuracy: 0.5063 - val_loss: 0.7090\n",
      "Epoch 61/100\n",
      "\u001b[1m400/400\u001b[0m \u001b[32m━━━━━━━━━━━━━━━━━━━━\u001b[0m\u001b[37m\u001b[0m \u001b[1m0s\u001b[0m 395us/step - accuracy: 0.5973 - loss: 0.6657 - val_accuracy: 0.5125 - val_loss: 0.7104\n",
      "Epoch 62/100\n",
      "\u001b[1m400/400\u001b[0m \u001b[32m━━━━━━━━━━━━━━━━━━━━\u001b[0m\u001b[37m\u001b[0m \u001b[1m0s\u001b[0m 370us/step - accuracy: 0.5866 - loss: 0.6673 - val_accuracy: 0.5131 - val_loss: 0.7085\n",
      "Epoch 63/100\n",
      "\u001b[1m400/400\u001b[0m \u001b[32m━━━━━━━━━━━━━━━━━━━━\u001b[0m\u001b[37m\u001b[0m \u001b[1m0s\u001b[0m 353us/step - accuracy: 0.5939 - loss: 0.6667 - val_accuracy: 0.5119 - val_loss: 0.7117\n",
      "Epoch 64/100\n",
      "\u001b[1m400/400\u001b[0m \u001b[32m━━━━━━━━━━━━━━━━━━━━\u001b[0m\u001b[37m\u001b[0m \u001b[1m0s\u001b[0m 353us/step - accuracy: 0.5929 - loss: 0.6658 - val_accuracy: 0.5038 - val_loss: 0.7144\n",
      "Epoch 65/100\n",
      "\u001b[1m400/400\u001b[0m \u001b[32m━━━━━━━━━━━━━━━━━━━━\u001b[0m\u001b[37m\u001b[0m \u001b[1m0s\u001b[0m 373us/step - accuracy: 0.5961 - loss: 0.6678 - val_accuracy: 0.5006 - val_loss: 0.7138\n",
      "Epoch 66/100\n",
      "\u001b[1m400/400\u001b[0m \u001b[32m━━━━━━━━━━━━━━━━━━━━\u001b[0m\u001b[37m\u001b[0m \u001b[1m0s\u001b[0m 361us/step - accuracy: 0.5929 - loss: 0.6654 - val_accuracy: 0.5094 - val_loss: 0.7126\n",
      "Epoch 67/100\n",
      "\u001b[1m400/400\u001b[0m \u001b[32m━━━━━━━━━━━━━━━━━━━━\u001b[0m\u001b[37m\u001b[0m \u001b[1m0s\u001b[0m 363us/step - accuracy: 0.5906 - loss: 0.6662 - val_accuracy: 0.5147 - val_loss: 0.7118\n",
      "Epoch 68/100\n",
      "\u001b[1m400/400\u001b[0m \u001b[32m━━━━━━━━━━━━━━━━━━━━\u001b[0m\u001b[37m\u001b[0m \u001b[1m0s\u001b[0m 396us/step - accuracy: 0.5936 - loss: 0.6653 - val_accuracy: 0.5097 - val_loss: 0.7129\n",
      "Epoch 69/100\n",
      "\u001b[1m400/400\u001b[0m \u001b[32m━━━━━━━━━━━━━━━━━━━━\u001b[0m\u001b[37m\u001b[0m \u001b[1m0s\u001b[0m 362us/step - accuracy: 0.5989 - loss: 0.6619 - val_accuracy: 0.5028 - val_loss: 0.7122\n",
      "Epoch 70/100\n",
      "\u001b[1m400/400\u001b[0m \u001b[32m━━━━━━━━━━━━━━━━━━━━\u001b[0m\u001b[37m\u001b[0m \u001b[1m0s\u001b[0m 369us/step - accuracy: 0.5929 - loss: 0.6661 - val_accuracy: 0.5100 - val_loss: 0.7122\n",
      "Epoch 71/100\n",
      "\u001b[1m400/400\u001b[0m \u001b[32m━━━━━━━━━━━━━━━━━━━━\u001b[0m\u001b[37m\u001b[0m \u001b[1m0s\u001b[0m 357us/step - accuracy: 0.5881 - loss: 0.6652 - val_accuracy: 0.5084 - val_loss: 0.7166\n",
      "Epoch 72/100\n",
      "\u001b[1m400/400\u001b[0m \u001b[32m━━━━━━━━━━━━━━━━━━━━\u001b[0m\u001b[37m\u001b[0m \u001b[1m0s\u001b[0m 363us/step - accuracy: 0.5867 - loss: 0.6688 - val_accuracy: 0.5138 - val_loss: 0.7126\n",
      "Epoch 73/100\n",
      "\u001b[1m400/400\u001b[0m \u001b[32m━━━━━━━━━━━━━━━━━━━━\u001b[0m\u001b[37m\u001b[0m \u001b[1m0s\u001b[0m 364us/step - accuracy: 0.5988 - loss: 0.6624 - val_accuracy: 0.5138 - val_loss: 0.7105\n",
      "Epoch 74/100\n",
      "\u001b[1m400/400\u001b[0m \u001b[32m━━━━━━━━━━━━━━━━━━━━\u001b[0m\u001b[37m\u001b[0m \u001b[1m0s\u001b[0m 358us/step - accuracy: 0.5933 - loss: 0.6638 - val_accuracy: 0.5113 - val_loss: 0.7150\n",
      "Epoch 75/100\n",
      "\u001b[1m400/400\u001b[0m \u001b[32m━━━━━━━━━━━━━━━━━━━━\u001b[0m\u001b[37m\u001b[0m \u001b[1m0s\u001b[0m 356us/step - accuracy: 0.5963 - loss: 0.6609 - val_accuracy: 0.5059 - val_loss: 0.7118\n",
      "Epoch 76/100\n",
      "\u001b[1m400/400\u001b[0m \u001b[32m━━━━━━━━━━━━━━━━━━━━\u001b[0m\u001b[37m\u001b[0m \u001b[1m0s\u001b[0m 477us/step - accuracy: 0.6000 - loss: 0.6601 - val_accuracy: 0.5125 - val_loss: 0.7127\n",
      "Epoch 77/100\n",
      "\u001b[1m400/400\u001b[0m \u001b[32m━━━━━━━━━━━━━━━━━━━━\u001b[0m\u001b[37m\u001b[0m \u001b[1m0s\u001b[0m 367us/step - accuracy: 0.5941 - loss: 0.6646 - val_accuracy: 0.5081 - val_loss: 0.7147\n",
      "Epoch 78/100\n",
      "\u001b[1m400/400\u001b[0m \u001b[32m━━━━━━━━━━━━━━━━━━━━\u001b[0m\u001b[37m\u001b[0m \u001b[1m0s\u001b[0m 357us/step - accuracy: 0.5904 - loss: 0.6643 - val_accuracy: 0.5091 - val_loss: 0.7128\n",
      "Epoch 79/100\n",
      "\u001b[1m400/400\u001b[0m \u001b[32m━━━━━━━━━━━━━━━━━━━━\u001b[0m\u001b[37m\u001b[0m \u001b[1m0s\u001b[0m 357us/step - accuracy: 0.5959 - loss: 0.6651 - val_accuracy: 0.5197 - val_loss: 0.7145\n",
      "Epoch 80/100\n",
      "\u001b[1m400/400\u001b[0m \u001b[32m━━━━━━━━━━━━━━━━━━━━\u001b[0m\u001b[37m\u001b[0m \u001b[1m0s\u001b[0m 360us/step - accuracy: 0.5962 - loss: 0.6640 - val_accuracy: 0.5066 - val_loss: 0.7213\n",
      "Epoch 81/100\n",
      "\u001b[1m400/400\u001b[0m \u001b[32m━━━━━━━━━━━━━━━━━━━━\u001b[0m\u001b[37m\u001b[0m \u001b[1m0s\u001b[0m 354us/step - accuracy: 0.5895 - loss: 0.6649 - val_accuracy: 0.5219 - val_loss: 0.7116\n",
      "Epoch 82/100\n",
      "\u001b[1m400/400\u001b[0m \u001b[32m━━━━━━━━━━━━━━━━━━━━\u001b[0m\u001b[37m\u001b[0m \u001b[1m0s\u001b[0m 361us/step - accuracy: 0.6030 - loss: 0.6620 - val_accuracy: 0.5125 - val_loss: 0.7150\n",
      "Epoch 83/100\n",
      "\u001b[1m400/400\u001b[0m \u001b[32m━━━━━━━━━━━━━━━━━━━━\u001b[0m\u001b[37m\u001b[0m \u001b[1m0s\u001b[0m 373us/step - accuracy: 0.5976 - loss: 0.6620 - val_accuracy: 0.5122 - val_loss: 0.7129\n",
      "Epoch 84/100\n",
      "\u001b[1m400/400\u001b[0m \u001b[32m━━━━━━━━━━━━━━━━━━━━\u001b[0m\u001b[37m\u001b[0m \u001b[1m0s\u001b[0m 389us/step - accuracy: 0.5959 - loss: 0.6639 - val_accuracy: 0.5122 - val_loss: 0.7149\n",
      "Epoch 85/100\n",
      "\u001b[1m400/400\u001b[0m \u001b[32m━━━━━━━━━━━━━━━━━━━━\u001b[0m\u001b[37m\u001b[0m \u001b[1m0s\u001b[0m 374us/step - accuracy: 0.5941 - loss: 0.6644 - val_accuracy: 0.5125 - val_loss: 0.7154\n",
      "Epoch 86/100\n",
      "\u001b[1m400/400\u001b[0m \u001b[32m━━━━━━━━━━━━━━━━━━━━\u001b[0m\u001b[37m\u001b[0m \u001b[1m0s\u001b[0m 370us/step - accuracy: 0.5976 - loss: 0.6610 - val_accuracy: 0.5103 - val_loss: 0.7172\n",
      "Epoch 87/100\n",
      "\u001b[1m400/400\u001b[0m \u001b[32m━━━━━━━━━━━━━━━━━━━━\u001b[0m\u001b[37m\u001b[0m \u001b[1m0s\u001b[0m 363us/step - accuracy: 0.6023 - loss: 0.6600 - val_accuracy: 0.5122 - val_loss: 0.7168\n",
      "Epoch 88/100\n",
      "\u001b[1m400/400\u001b[0m \u001b[32m━━━━━━━━━━━━━━━━━━━━\u001b[0m\u001b[37m\u001b[0m \u001b[1m0s\u001b[0m 358us/step - accuracy: 0.5991 - loss: 0.6598 - val_accuracy: 0.5113 - val_loss: 0.7174\n",
      "Epoch 89/100\n",
      "\u001b[1m400/400\u001b[0m \u001b[32m━━━━━━━━━━━━━━━━━━━━\u001b[0m\u001b[37m\u001b[0m \u001b[1m0s\u001b[0m 359us/step - accuracy: 0.5976 - loss: 0.6639 - val_accuracy: 0.5097 - val_loss: 0.7161\n",
      "Epoch 90/100\n",
      "\u001b[1m400/400\u001b[0m \u001b[32m━━━━━━━━━━━━━━━━━━━━\u001b[0m\u001b[37m\u001b[0m \u001b[1m0s\u001b[0m 359us/step - accuracy: 0.5986 - loss: 0.6610 - val_accuracy: 0.5150 - val_loss: 0.7151\n",
      "Epoch 91/100\n",
      "\u001b[1m400/400\u001b[0m \u001b[32m━━━━━━━━━━━━━━━━━━━━\u001b[0m\u001b[37m\u001b[0m \u001b[1m0s\u001b[0m 349us/step - accuracy: 0.5995 - loss: 0.6590 - val_accuracy: 0.5166 - val_loss: 0.7176\n",
      "Epoch 92/100\n",
      "\u001b[1m400/400\u001b[0m \u001b[32m━━━━━━━━━━━━━━━━━━━━\u001b[0m\u001b[37m\u001b[0m \u001b[1m0s\u001b[0m 381us/step - accuracy: 0.6048 - loss: 0.6567 - val_accuracy: 0.5125 - val_loss: 0.7152\n",
      "Epoch 93/100\n",
      "\u001b[1m400/400\u001b[0m \u001b[32m━━━━━━━━━━━━━━━━━━━━\u001b[0m\u001b[37m\u001b[0m \u001b[1m0s\u001b[0m 451us/step - accuracy: 0.5943 - loss: 0.6622 - val_accuracy: 0.5131 - val_loss: 0.7172\n",
      "Epoch 94/100\n",
      "\u001b[1m400/400\u001b[0m \u001b[32m━━━━━━━━━━━━━━━━━━━━\u001b[0m\u001b[37m\u001b[0m \u001b[1m0s\u001b[0m 359us/step - accuracy: 0.6029 - loss: 0.6611 - val_accuracy: 0.5075 - val_loss: 0.7181\n",
      "Epoch 95/100\n",
      "\u001b[1m400/400\u001b[0m \u001b[32m━━━━━━━━━━━━━━━━━━━━\u001b[0m\u001b[37m\u001b[0m \u001b[1m0s\u001b[0m 363us/step - accuracy: 0.5996 - loss: 0.6617 - val_accuracy: 0.5113 - val_loss: 0.7168\n",
      "Epoch 96/100\n",
      "\u001b[1m400/400\u001b[0m \u001b[32m━━━━━━━━━━━━━━━━━━━━\u001b[0m\u001b[37m\u001b[0m \u001b[1m0s\u001b[0m 354us/step - accuracy: 0.6009 - loss: 0.6596 - val_accuracy: 0.5103 - val_loss: 0.7178\n",
      "Epoch 97/100\n",
      "\u001b[1m400/400\u001b[0m \u001b[32m━━━━━━━━━━━━━━━━━━━━\u001b[0m\u001b[37m\u001b[0m \u001b[1m0s\u001b[0m 347us/step - accuracy: 0.6040 - loss: 0.6566 - val_accuracy: 0.5216 - val_loss: 0.7187\n",
      "Epoch 98/100\n",
      "\u001b[1m400/400\u001b[0m \u001b[32m━━━━━━━━━━━━━━━━━━━━\u001b[0m\u001b[37m\u001b[0m \u001b[1m0s\u001b[0m 351us/step - accuracy: 0.6080 - loss: 0.6573 - val_accuracy: 0.5084 - val_loss: 0.7171\n",
      "Epoch 99/100\n",
      "\u001b[1m400/400\u001b[0m \u001b[32m━━━━━━━━━━━━━━━━━━━━\u001b[0m\u001b[37m\u001b[0m \u001b[1m0s\u001b[0m 342us/step - accuracy: 0.5996 - loss: 0.6611 - val_accuracy: 0.5100 - val_loss: 0.7165\n",
      "Epoch 100/100\n",
      "\u001b[1m400/400\u001b[0m \u001b[32m━━━━━━━━━━━━━━━━━━━━\u001b[0m\u001b[37m\u001b[0m \u001b[1m0s\u001b[0m 344us/step - accuracy: 0.5921 - loss: 0.6606 - val_accuracy: 0.5072 - val_loss: 0.7191\n"
     ]
    }
   ],
   "source": [
    "model_history = model.fit(X_train,y_train,validation_split=.2,epochs=100)\n",
    "# model_history = model.fit(X_train,y_train,validation_split=.2,epochs=1,batch_size=50)"
   ]
  },
  {
   "cell_type": "code",
   "execution_count": 172,
   "metadata": {},
   "outputs": [
    {
     "data": {
      "text/plain": [
       "dict_keys(['accuracy', 'loss', 'val_accuracy', 'val_loss'])"
      ]
     },
     "execution_count": 172,
     "metadata": {},
     "output_type": "execute_result"
    }
   ],
   "source": [
    "model_history.history.keys()"
   ]
  }
 ],
 "metadata": {
  "kernelspec": {
   "display_name": ".venv",
   "language": "python",
   "name": "python3"
  },
  "language_info": {
   "codemirror_mode": {
    "name": "ipython",
    "version": 3
   },
   "file_extension": ".py",
   "mimetype": "text/x-python",
   "name": "python",
   "nbconvert_exporter": "python",
   "pygments_lexer": "ipython3",
   "version": "3.12.5"
  }
 },
 "nbformat": 4,
 "nbformat_minor": 2
}
